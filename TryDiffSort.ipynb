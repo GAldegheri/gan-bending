{
 "cells": [
  {
   "cell_type": "code",
   "execution_count": 175,
   "metadata": {},
   "outputs": [],
   "source": [
    "import torch\n",
    "import torch.nn as nn\n",
    "import torch.nn.functional as F\n",
    "from diffsort import DiffSortNet\n",
    "from torch.optim import Adam\n",
    "from tqdm import tqdm\n",
    "import functools, operator\n",
    "import matplotlib.pyplot as plt\n",
    "from bending_modules import BendingDiffSort"
   ]
  },
  {
   "cell_type": "code",
   "execution_count": 179,
   "metadata": {},
   "outputs": [
    {
     "ename": "RuntimeError",
     "evalue": "Expected size for first two dimensions of batch2 tensor to be: [16, 576] but got: [16, 3].",
     "output_type": "error",
     "traceback": [
      "\u001b[1;31m---------------------------------------------------------------------------\u001b[0m",
      "\u001b[1;31mRuntimeError\u001b[0m                              Traceback (most recent call last)",
      "Cell \u001b[1;32mIn[179], line 3\u001b[0m\n\u001b[0;32m      1\u001b[0m bendiffsort \u001b[39m=\u001b[39m BendingDiffSort(\u001b[39m3\u001b[39m, \u001b[39m24\u001b[39m)\n\u001b[0;32m      2\u001b[0m x \u001b[39m=\u001b[39m torch\u001b[39m.\u001b[39mrand(\u001b[39m16\u001b[39m, \u001b[39m3\u001b[39m, \u001b[39m24\u001b[39m, \u001b[39m24\u001b[39m)\n\u001b[1;32m----> 3\u001b[0m y \u001b[39m=\u001b[39m bendiffsort(x)\n",
      "File \u001b[1;32mc:\\Users\\giaco\\anaconda3\\envs\\giatorch\\lib\\site-packages\\torch\\nn\\modules\\module.py:1194\u001b[0m, in \u001b[0;36mModule._call_impl\u001b[1;34m(self, *input, **kwargs)\u001b[0m\n\u001b[0;32m   1190\u001b[0m \u001b[39m# If we don't have any hooks, we want to skip the rest of the logic in\u001b[39;00m\n\u001b[0;32m   1191\u001b[0m \u001b[39m# this function, and just call forward.\u001b[39;00m\n\u001b[0;32m   1192\u001b[0m \u001b[39mif\u001b[39;00m \u001b[39mnot\u001b[39;00m (\u001b[39mself\u001b[39m\u001b[39m.\u001b[39m_backward_hooks \u001b[39mor\u001b[39;00m \u001b[39mself\u001b[39m\u001b[39m.\u001b[39m_forward_hooks \u001b[39mor\u001b[39;00m \u001b[39mself\u001b[39m\u001b[39m.\u001b[39m_forward_pre_hooks \u001b[39mor\u001b[39;00m _global_backward_hooks\n\u001b[0;32m   1193\u001b[0m         \u001b[39mor\u001b[39;00m _global_forward_hooks \u001b[39mor\u001b[39;00m _global_forward_pre_hooks):\n\u001b[1;32m-> 1194\u001b[0m     \u001b[39mreturn\u001b[39;00m forward_call(\u001b[39m*\u001b[39m\u001b[39minput\u001b[39m, \u001b[39m*\u001b[39m\u001b[39m*\u001b[39mkwargs)\n\u001b[0;32m   1195\u001b[0m \u001b[39m# Do not call functions when jit is used\u001b[39;00m\n\u001b[0;32m   1196\u001b[0m full_backward_hooks, non_full_backward_hooks \u001b[39m=\u001b[39m [], []\n",
      "File \u001b[1;32mc:\\Users\\giaco\\Documents\\gan-bending\\bending_modules.py:54\u001b[0m, in \u001b[0;36mBendingDiffSort.forward\u001b[1;34m(self, x)\u001b[0m\n\u001b[0;32m     51\u001b[0m out \u001b[39m=\u001b[39m \u001b[39mself\u001b[39m\u001b[39m.\u001b[39mfc1(out)\n\u001b[0;32m     52\u001b[0m _, sort_mat \u001b[39m=\u001b[39m \u001b[39mself\u001b[39m\u001b[39m.\u001b[39moutput_sorter(out)\n\u001b[1;32m---> 54\u001b[0m sorted_x \u001b[39m=\u001b[39m torch\u001b[39m.\u001b[39;49mbmm(x\u001b[39m.\u001b[39;49mreshape(\n\u001b[0;32m     55\u001b[0m     batch_size, \u001b[39m-\u001b[39;49m\u001b[39m1\u001b[39;49m, \u001b[39mself\u001b[39;49m\u001b[39m.\u001b[39;49mn_channels)\u001b[39m.\u001b[39;49mpermute(\n\u001b[0;32m     56\u001b[0m         \u001b[39m0\u001b[39;49m, \u001b[39m2\u001b[39;49m, \u001b[39m1\u001b[39;49m), sort_mat)\u001b[39m.\u001b[39mpermute(\u001b[39m0\u001b[39m, \u001b[39m2\u001b[39m, \u001b[39m1\u001b[39m)\u001b[39m.\u001b[39mreshape(batch_size, \n\u001b[0;32m     57\u001b[0m                                        \u001b[39mself\u001b[39m\u001b[39m.\u001b[39mn_channels,\n\u001b[0;32m     58\u001b[0m                                        \u001b[39mself\u001b[39m\u001b[39m.\u001b[39minput_size,\n\u001b[0;32m     59\u001b[0m                                        \u001b[39mself\u001b[39m\u001b[39m.\u001b[39minput_size)\n\u001b[0;32m     61\u001b[0m \u001b[39mreturn\u001b[39;00m sorted_x\n",
      "\u001b[1;31mRuntimeError\u001b[0m: Expected size for first two dimensions of batch2 tensor to be: [16, 576] but got: [16, 3]."
     ]
    }
   ],
   "source": [
    "bendiffsort = BendingDiffSort(3, 24)\n",
    "x = torch.rand(16, 3, 24, 24)\n",
    "y = bendiffsort(x)"
   ]
  },
  {
   "cell_type": "code",
   "execution_count": 13,
   "metadata": {},
   "outputs": [],
   "source": [
    "class ToyDiffSort(nn.Module):\n",
    "    def __init__(self, n_channels, input_size):\n",
    "        super(ToyDiffSort, self).__init__()\n",
    "        self.n_channels = n_channels\n",
    "        \n",
    "        self.feat_extractor = nn.Sequential(\n",
    "            nn.Conv2d(self.n_channels, 32, 5),\n",
    "            nn.ReLU(inplace=True),\n",
    "            nn.MaxPool2d(2),\n",
    "            nn.Conv2d(32, 64, 5),\n",
    "            nn.ReLU(inplace=True),\n",
    "            nn.MaxPool2d(2)\n",
    "        )\n",
    "        # Trick from https://datascience.stackexchange.com/questions/40906/determining-size-of-fc-layer-after-conv-layer-in-pytorch\n",
    "        num_feats_before_fcnn = functools.reduce(\n",
    "            operator.mul,\n",
    "            list(self.feat_extractor(\n",
    "                torch.rand(1, n_channels, input_size, input_size)\n",
    "            ).shape)\n",
    "        )\n",
    "        #print('Estimated:', num_feats_before_fcnn)\n",
    "        \n",
    "        self.fc1 = nn.Linear(num_feats_before_fcnn, 64)\n",
    "        self.fc2 = nn.Linear(64, self.n_channels)\n",
    "        self.output_sorter = DiffSortNet('bitonic', self.n_channels, steepness=5)\n",
    "    \n",
    "    def forward(self, x):\n",
    "        batch_size = x.shape[0]  \n",
    "        \n",
    "        out = self.feat_extractor(x)\n",
    "        out = out.view(batch_size, -1)\n",
    "        #print('Actual:', out.shape[1])\n",
    "        out = F.relu(self.fc1(out))\n",
    "        out = self.fc2(out)\n",
    "        out_sorted, sort_mat = self.output_sorter(out)\n",
    "        \n",
    "        return out_sorted\n",
    "        "
   ]
  },
  {
   "cell_type": "code",
   "execution_count": 79,
   "metadata": {},
   "outputs": [],
   "source": [
    "sorter = DiffSortNet('bitonic', 3, steepness=50)"
   ]
  },
  {
   "cell_type": "code",
   "execution_count": 105,
   "metadata": {},
   "outputs": [],
   "source": [
    "x = torch.randn(4, 3, 2, 2)\n",
    "y = torch.randn(4, 3)"
   ]
  },
  {
   "cell_type": "code",
   "execution_count": 106,
   "metadata": {},
   "outputs": [],
   "source": [
    "x_ = x.reshape(4, -1, 3)"
   ]
  },
  {
   "cell_type": "code",
   "execution_count": 107,
   "metadata": {},
   "outputs": [
    {
     "data": {
      "text/plain": [
       "torch.Size([4, 4, 3])"
      ]
     },
     "execution_count": 107,
     "metadata": {},
     "output_type": "execute_result"
    }
   ],
   "source": [
    "x_.shape"
   ]
  },
  {
   "cell_type": "code",
   "execution_count": 99,
   "metadata": {},
   "outputs": [],
   "source": [
    "x_sort, sort_mat = sorter(y)"
   ]
  },
  {
   "cell_type": "code",
   "execution_count": 100,
   "metadata": {},
   "outputs": [
    {
     "data": {
      "text/plain": [
       "torch.Size([4, 3, 3])"
      ]
     },
     "execution_count": 100,
     "metadata": {},
     "output_type": "execute_result"
    }
   ],
   "source": [
    "sort_mat.shape"
   ]
  },
  {
   "cell_type": "code",
   "execution_count": 125,
   "metadata": {},
   "outputs": [
    {
     "data": {
      "text/plain": [
       "torch.Size([4, 2, 2, 3])"
      ]
     },
     "execution_count": 125,
     "metadata": {},
     "output_type": "execute_result"
    }
   ],
   "source": [
    "x.permute(0, 2, 3, 1).shape"
   ]
  },
  {
   "cell_type": "code",
   "execution_count": 126,
   "metadata": {},
   "outputs": [
    {
     "ename": "RuntimeError",
     "evalue": "shape '[0, 2, 3, 1]' is invalid for input of size 48",
     "output_type": "error",
     "traceback": [
      "\u001b[1;31m---------------------------------------------------------------------------\u001b[0m",
      "\u001b[1;31mRuntimeError\u001b[0m                              Traceback (most recent call last)",
      "Cell \u001b[1;32mIn[126], line 1\u001b[0m\n\u001b[1;32m----> 1\u001b[0m x_sorted \u001b[39m=\u001b[39m torch\u001b[39m.\u001b[39;49mbmm(x\u001b[39m.\u001b[39;49mpermute(\u001b[39m0\u001b[39;49m, \u001b[39m2\u001b[39;49m, \u001b[39m3\u001b[39;49m, \u001b[39m1\u001b[39;49m)\u001b[39m.\u001b[39;49mreshape(\u001b[39m4\u001b[39;49m, \u001b[39m-\u001b[39;49m\u001b[39m1\u001b[39;49m, \u001b[39m3\u001b[39;49m), sort_mat)\u001b[39m.\u001b[39;49mreshape(\u001b[39m0\u001b[39;49m, \u001b[39m2\u001b[39;49m, \u001b[39m3\u001b[39;49m, \u001b[39m1\u001b[39;49m)\n",
      "\u001b[1;31mRuntimeError\u001b[0m: shape '[0, 2, 3, 1]' is invalid for input of size 48"
     ]
    }
   ],
   "source": [
    "x_sorted = torch.bmm(x.permute(0, 2, 3, 1).reshape(4, -1, 3), sort_mat).reshape(0, 2, 3, 1)"
   ]
  },
  {
   "cell_type": "code",
   "execution_count": 128,
   "metadata": {},
   "outputs": [],
   "source": [
    "sort_mat = torch.Tensor([[[0., 1.], [1., 0.]], [[1., 0.], [0., 1.]]])"
   ]
  },
  {
   "cell_type": "code",
   "execution_count": 131,
   "metadata": {},
   "outputs": [
    {
     "data": {
      "text/plain": [
       "torch.Size([2, 2, 2])"
      ]
     },
     "execution_count": 131,
     "metadata": {},
     "output_type": "execute_result"
    }
   ],
   "source": [
    "sort_mat.shape"
   ]
  },
  {
   "cell_type": "code",
   "execution_count": 130,
   "metadata": {},
   "outputs": [
    {
     "data": {
      "text/plain": [
       "tensor([[0., 1.],\n",
       "        [1., 0.]])"
      ]
     },
     "execution_count": 130,
     "metadata": {},
     "output_type": "execute_result"
    }
   ],
   "source": [
    "sort_mat[0]"
   ]
  },
  {
   "cell_type": "code",
   "execution_count": 165,
   "metadata": {},
   "outputs": [],
   "source": [
    "x = torch.Tensor([\n",
    "    [[[0, 0, 0], [0, 0, 0]], [[1, 1, 1], [1, 1, 1]]], \n",
    "    [[[2, 2, 2], [2, 2, 2]], [[3, 3, 3], [3, 3, 3]]]\n",
    "    ])"
   ]
  },
  {
   "cell_type": "code",
   "execution_count": 166,
   "metadata": {},
   "outputs": [
    {
     "data": {
      "text/plain": [
       "torch.Size([2, 2, 2, 3])"
      ]
     },
     "execution_count": 166,
     "metadata": {},
     "output_type": "execute_result"
    }
   ],
   "source": [
    "x.shape"
   ]
  },
  {
   "cell_type": "code",
   "execution_count": 170,
   "metadata": {},
   "outputs": [],
   "source": [
    "y = torch.bmm(x.reshape(2,2,-1).permute(0, 2, 1), sort_mat).permute(0,2,1).reshape(2,2,2,3)"
   ]
  },
  {
   "cell_type": "code",
   "execution_count": 171,
   "metadata": {},
   "outputs": [
    {
     "data": {
      "text/plain": [
       "torch.Size([2, 2, 2, 3])"
      ]
     },
     "execution_count": 171,
     "metadata": {},
     "output_type": "execute_result"
    }
   ],
   "source": [
    "y.shape"
   ]
  },
  {
   "cell_type": "code",
   "execution_count": 172,
   "metadata": {},
   "outputs": [
    {
     "data": {
      "text/plain": [
       "tensor([[0., 0., 0.],\n",
       "        [0., 0., 0.]])"
      ]
     },
     "execution_count": 172,
     "metadata": {},
     "output_type": "execute_result"
    }
   ],
   "source": [
    "x[0][0]"
   ]
  },
  {
   "cell_type": "code",
   "execution_count": 174,
   "metadata": {},
   "outputs": [
    {
     "data": {
      "text/plain": [
       "tensor([[1., 1., 1.],\n",
       "        [1., 1., 1.]])"
      ]
     },
     "execution_count": 174,
     "metadata": {},
     "output_type": "execute_result"
    }
   ],
   "source": [
    "y[0][0]"
   ]
  },
  {
   "cell_type": "code",
   "execution_count": 122,
   "metadata": {},
   "outputs": [
    {
     "data": {
      "text/plain": [
       "tensor([[ 0.0042, -0.4893],\n",
       "        [ 1.1642,  1.3981]])"
      ]
     },
     "execution_count": 122,
     "metadata": {},
     "output_type": "execute_result"
    }
   ],
   "source": [
    "x[0][0]"
   ]
  },
  {
   "cell_type": "code",
   "execution_count": 118,
   "metadata": {},
   "outputs": [
    {
     "data": {
      "text/plain": [
       "tensor([[ 1.3691,  0.2172],\n",
       "        [ 0.1267, -0.7040]])"
      ]
     },
     "execution_count": 118,
     "metadata": {},
     "output_type": "execute_result"
    }
   ],
   "source": [
    "x_sorted[0][1]"
   ]
  },
  {
   "cell_type": "code",
   "execution_count": 120,
   "metadata": {},
   "outputs": [
    {
     "data": {
      "text/plain": [
       "tensor([[0.0053, 0.9749, 0.0198],\n",
       "        [0.0041, 0.0199, 0.9760],\n",
       "        [0.9906, 0.0052, 0.0042]])"
      ]
     },
     "execution_count": 120,
     "metadata": {},
     "output_type": "execute_result"
    }
   ],
   "source": [
    "sort_mat[0]"
   ]
  },
  {
   "cell_type": "code",
   "execution_count": 114,
   "metadata": {},
   "outputs": [
    {
     "data": {
      "text/plain": [
       "tensor([[ 0.0042, -0.4893],\n",
       "        [ 1.1642,  1.3981]])"
      ]
     },
     "execution_count": 114,
     "metadata": {},
     "output_type": "execute_result"
    }
   ],
   "source": [
    "x.reshape(4, -1, 3).reshape(4, 3, 2, 2)[0][0]"
   ]
  },
  {
   "cell_type": "code",
   "execution_count": 109,
   "metadata": {},
   "outputs": [
    {
     "data": {
      "text/plain": [
       "torch.Size([4, 4, 3])"
      ]
     },
     "execution_count": 109,
     "metadata": {},
     "output_type": "execute_result"
    }
   ],
   "source": [
    "y.shape"
   ]
  },
  {
   "cell_type": "code",
   "execution_count": 95,
   "metadata": {},
   "outputs": [
    {
     "data": {
      "text/plain": [
       "tensor([[ 1.0119,  1.2738, -1.0657],\n",
       "        [-0.3608,  2.0084,  0.3825],\n",
       "        [-0.0903, -1.5681,  1.4969],\n",
       "        [ 0.8572,  0.5036,  0.0334]])"
      ]
     },
     "execution_count": 95,
     "metadata": {},
     "output_type": "execute_result"
    }
   ],
   "source": [
    "x"
   ]
  },
  {
   "cell_type": "code",
   "execution_count": 86,
   "metadata": {},
   "outputs": [
    {
     "data": {
      "text/plain": [
       "torch.Size([4, 4, 3])"
      ]
     },
     "execution_count": 86,
     "metadata": {},
     "output_type": "execute_result"
    }
   ],
   "source": [
    "y.shape"
   ]
  },
  {
   "cell_type": "code",
   "execution_count": 87,
   "metadata": {},
   "outputs": [
    {
     "data": {
      "text/plain": [
       "torch.Size([4, 3])"
      ]
     },
     "execution_count": 87,
     "metadata": {},
     "output_type": "execute_result"
    }
   ],
   "source": [
    "x.shape"
   ]
  },
  {
   "cell_type": "code",
   "execution_count": 78,
   "metadata": {},
   "outputs": [
    {
     "name": "stdout",
     "output_type": "stream",
     "text": [
      "0.0017, 0.0019, 0.9964\n",
      "0.0031, 0.9894, 0.0075\n",
      "0.0013, 0.0069, 0.9918\n",
      "0.0091, 0.9895, 0.0015\n"
     ]
    }
   ],
   "source": [
    "for mat in sort_mat:\n",
    "    print(f'{mat[0][0]:.4f}, {mat[0][1]:.4f}, {mat[0][2]:.4f}')"
   ]
  },
  {
   "cell_type": "code",
   "execution_count": 72,
   "metadata": {},
   "outputs": [
    {
     "name": "stdout",
     "output_type": "stream",
     "text": [
      "0.9985, 0.0015, 0.0000\n",
      "0.0016, 0.9817, 0.0167\n",
      "0.9985, 0.0015, 0.0000\n",
      "0.0013, 0.0035, 0.9952\n"
     ]
    }
   ],
   "source": [
    "for mat in sort_mat:\n",
    "    print(f'{mat[0][0]:.4f}, {mat[0][1]:.4f}, {mat[0][2]:.4f}')"
   ]
  },
  {
   "cell_type": "code",
   "execution_count": null,
   "metadata": {},
   "outputs": [],
   "source": [
    "def compute_loss(out_sorted):\n",
    "    loss = out_sorted * torch.Tensor([1., 0., 0.])[None, ...]\n",
    "    return 1./loss.sum()"
   ]
  },
  {
   "cell_type": "code",
   "execution_count": 25,
   "metadata": {},
   "outputs": [],
   "source": [
    "toydiffsort = ToyDiffSort(3, 24)"
   ]
  },
  {
   "cell_type": "code",
   "execution_count": 29,
   "metadata": {},
   "outputs": [
    {
     "data": {
      "text/plain": [
       "DiffSortNet()"
      ]
     },
     "execution_count": 29,
     "metadata": {},
     "output_type": "execute_result"
    }
   ],
   "source": [
    "toydiffsort.output_sorter"
   ]
  },
  {
   "cell_type": "code",
   "execution_count": 15,
   "metadata": {},
   "outputs": [],
   "source": [
    "x = torch.rand(10, 3, 24, 24)"
   ]
  },
  {
   "cell_type": "code",
   "execution_count": 16,
   "metadata": {},
   "outputs": [],
   "source": [
    "y_sort = toydiffsort(x)"
   ]
  },
  {
   "cell_type": "code",
   "execution_count": 20,
   "metadata": {},
   "outputs": [
    {
     "data": {
      "text/plain": [
       "tensor([[0, 1, 2],\n",
       "        [0, 1, 2],\n",
       "        [0, 1, 2],\n",
       "        [0, 1, 2],\n",
       "        [0, 1, 2],\n",
       "        [0, 1, 2],\n",
       "        [0, 1, 2],\n",
       "        [0, 1, 2],\n",
       "        [0, 1, 2],\n",
       "        [0, 1, 2]])"
      ]
     },
     "execution_count": 20,
     "metadata": {},
     "output_type": "execute_result"
    }
   ],
   "source": [
    "torch.argsort(y_sort)"
   ]
  },
  {
   "cell_type": "code",
   "execution_count": 23,
   "metadata": {},
   "outputs": [],
   "source": [
    "x_perm = permute_tensor_batchwise(x, torch.argsort(y_sort), 1)"
   ]
  },
  {
   "cell_type": "code",
   "execution_count": 24,
   "metadata": {},
   "outputs": [
    {
     "data": {
      "text/plain": [
       "torch.Size([10, 3, 24, 24])"
      ]
     },
     "execution_count": 24,
     "metadata": {},
     "output_type": "execute_result"
    }
   ],
   "source": [
    "x_perm.shape"
   ]
  },
  {
   "cell_type": "code",
   "execution_count": null,
   "metadata": {},
   "outputs": [],
   "source": [
    "y_sort.shape"
   ]
  },
  {
   "cell_type": "code",
   "execution_count": null,
   "metadata": {},
   "outputs": [],
   "source": [
    "y_sort[:3, :]"
   ]
  },
  {
   "cell_type": "code",
   "execution_count": null,
   "metadata": {},
   "outputs": [],
   "source": [
    "torch.argsort(y_sort[:3, :])"
   ]
  },
  {
   "cell_type": "code",
   "execution_count": null,
   "metadata": {},
   "outputs": [],
   "source": [
    "xxx = torch.randn(16, 3)"
   ]
  },
  {
   "cell_type": "code",
   "execution_count": null,
   "metadata": {},
   "outputs": [],
   "source": [
    "A = torch.Tensor([[1, 2, 3], [4, 5, 6]])\n",
    "order_tensor = torch.LongTensor([[0, 2, 1], [1, 2, 0]])"
   ]
  },
  {
   "cell_type": "code",
   "execution_count": null,
   "metadata": {},
   "outputs": [],
   "source": [
    "# Create row indices tensor\n",
    "row_indices = torch.arange(A.shape[0]).unsqueeze(-1).expand_as(order_tensor)"
   ]
  },
  {
   "cell_type": "code",
   "execution_count": null,
   "metadata": {},
   "outputs": [],
   "source": [
    "# Use advanced indexing to permute the tensor\n",
    "permuted_A_advanced = A[row_indices, order_tensor]\n",
    "\n",
    "permuted_A_advanced"
   ]
  },
  {
   "cell_type": "code",
   "execution_count": 2,
   "metadata": {},
   "outputs": [],
   "source": [
    "from utils import permute_tensor_batchwise"
   ]
  },
  {
   "cell_type": "code",
   "execution_count": 9,
   "metadata": {},
   "outputs": [],
   "source": [
    "A = torch.randn(2, 3)"
   ]
  },
  {
   "cell_type": "code",
   "execution_count": 10,
   "metadata": {},
   "outputs": [],
   "source": [
    "order_tensor = torch.LongTensor([[0, 2, 1],\n",
    "                                 [2, 1, 0]])"
   ]
  },
  {
   "cell_type": "code",
   "execution_count": 11,
   "metadata": {},
   "outputs": [
    {
     "data": {
      "text/plain": [
       "tensor([[ 0.8444, -0.1195,  0.3843],\n",
       "        [ 0.0372,  2.2617, -0.5762]])"
      ]
     },
     "execution_count": 11,
     "metadata": {},
     "output_type": "execute_result"
    }
   ],
   "source": [
    "A"
   ]
  },
  {
   "cell_type": "code",
   "execution_count": 12,
   "metadata": {},
   "outputs": [
    {
     "data": {
      "text/plain": [
       "tensor([[ 0.8444,  0.3843, -0.1195],\n",
       "        [-0.5762,  2.2617,  0.0372]])"
      ]
     },
     "execution_count": 12,
     "metadata": {},
     "output_type": "execute_result"
    }
   ],
   "source": [
    "permute_tensor_batchwise(A, order_tensor, 1)"
   ]
  },
  {
   "cell_type": "code",
   "execution_count": 7,
   "metadata": {},
   "outputs": [
    {
     "data": {
      "text/plain": [
       "tensor([[-1.0878,  1.7513],\n",
       "        [-0.2414, -0.1225],\n",
       "        [-1.9815,  0.4922]])"
      ]
     },
     "execution_count": 7,
     "metadata": {},
     "output_type": "execute_result"
    }
   ],
   "source": [
    "permute_tensor_batchwise(A, order_tensor, 2)[1]"
   ]
  },
  {
   "cell_type": "code",
   "execution_count": null,
   "metadata": {},
   "outputs": [],
   "source": [
    "A.dim()"
   ]
  },
  {
   "cell_type": "code",
   "execution_count": null,
   "metadata": {},
   "outputs": [],
   "source": [
    "order_tensor.view(*([-1] + [1] * (A.dim() - 1)))"
   ]
  },
  {
   "cell_type": "code",
   "execution_count": null,
   "metadata": {},
   "outputs": [],
   "source": [
    "dim = 1\n",
    "\n",
    "# Check if the shape of A along the given dim matches the shape of order_tensor\n",
    "assert A.shape[dim] == order_tensor.size(0), \"Mismatch in shapes of A and order_tensor along the specified dimension\"\n",
    "\n",
    "# Reshape order_tensor to be compatible with A\n",
    "reshaped_order_tensor = order_tensor.view(*([-1] + [1] * (A.dim() - 1)))\n",
    "\n",
    "# Move the permuted dimension to the correct position\n",
    "reshaped_order_tensor = reshaped_order_tensor.permute([i for i in range(1, dim+1)] + [0] + [i for i in range(dim+1, A.dim())])\n",
    "\n",
    "# Generate meshgrid of indices\n",
    "indices = list(torch.meshgrid([torch.arange(s) for s in A.shape]))\n",
    "\n",
    "# Adjust the shape of order_tensor to match the dimensionality of A\n",
    "expanded_shape = [s if i == dim else A.shape[i] for i, s in enumerate(reshaped_order_tensor.shape)]\n",
    "order_tensor_expanded = reshaped_order_tensor.expand(*expanded_shape)\n",
    "\n",
    "indices[dim] = order_tensor_expanded"
   ]
  },
  {
   "cell_type": "code",
   "execution_count": null,
   "metadata": {},
   "outputs": [],
   "source": [
    "yyy.shape"
   ]
  },
  {
   "cell_type": "code",
   "execution_count": null,
   "metadata": {},
   "outputs": [],
   "source": [
    "torch.argsort(y_sort)"
   ]
  },
  {
   "cell_type": "code",
   "execution_count": null,
   "metadata": {},
   "outputs": [],
   "source": [
    "xxx[:3,:]"
   ]
  },
  {
   "cell_type": "code",
   "execution_count": null,
   "metadata": {},
   "outputs": [],
   "source": [
    "yyy[:3, :]"
   ]
  },
  {
   "cell_type": "code",
   "execution_count": null,
   "metadata": {},
   "outputs": [],
   "source": [
    "yyy.shape"
   ]
  },
  {
   "cell_type": "code",
   "execution_count": null,
   "metadata": {},
   "outputs": [],
   "source": [
    "perm_mat[0]"
   ]
  },
  {
   "cell_type": "code",
   "execution_count": null,
   "metadata": {},
   "outputs": [],
   "source": [
    "loss = compute_loss(y_sort)"
   ]
  },
  {
   "cell_type": "code",
   "execution_count": null,
   "metadata": {},
   "outputs": [],
   "source": [
    "loss"
   ]
  },
  {
   "cell_type": "code",
   "execution_count": null,
   "metadata": {},
   "outputs": [],
   "source": [
    "torch.cuda.empty_cache()\n",
    "\n",
    "batch_size = 16\n",
    "\n",
    "n_iter = 1000\n",
    "\n",
    "opt = Adam(toydiffsort.parameters(), 1e-3)\n",
    "\n",
    "loss_log = []\n",
    "\n",
    "for i in tqdm(range(n_iter)):\n",
    "    \n",
    "    x = torch.randn(batch_size, 3, 24, 24)\n",
    "    \n",
    "    out_sorted = toydiffsort(x)\n",
    "    \n",
    "    loss = compute_loss(out_sorted)\n",
    "    \n",
    "    loss_log.append(loss.detach().cpu().numpy())\n",
    "    \n",
    "    with torch.no_grad():\n",
    "        loss.backward()\n",
    "        opt.step()\n",
    "        opt.zero_grad()\n",
    "        \n",
    "plt.plot(range(n_iter), loss_log)"
   ]
  },
  {
   "cell_type": "code",
   "execution_count": null,
   "metadata": {},
   "outputs": [],
   "source": [
    "x = torch.randn(batch_size, 3, 24, 24)"
   ]
  },
  {
   "cell_type": "code",
   "execution_count": null,
   "metadata": {},
   "outputs": [],
   "source": [
    "toydiffsort(x)"
   ]
  },
  {
   "attachments": {},
   "cell_type": "markdown",
   "metadata": {},
   "source": [
    "#\n",
    "#\n",
    "#\n",
    "#\n",
    "#"
   ]
  },
  {
   "cell_type": "code",
   "execution_count": null,
   "metadata": {},
   "outputs": [],
   "source": [
    "zz = y_sort * torch.Tensor([10., 1., 0.1])[None, ...]"
   ]
  },
  {
   "cell_type": "code",
   "execution_count": null,
   "metadata": {},
   "outputs": [],
   "source": [
    "y_sort"
   ]
  },
  {
   "cell_type": "code",
   "execution_count": null,
   "metadata": {},
   "outputs": [],
   "source": [
    "zz.sum()"
   ]
  },
  {
   "cell_type": "code",
   "execution_count": null,
   "metadata": {},
   "outputs": [],
   "source": [
    "y[0, :]"
   ]
  },
  {
   "cell_type": "code",
   "execution_count": null,
   "metadata": {},
   "outputs": [],
   "source": [
    "output_sorter = DiffSortNet('bitonic', 3, steepness=5)"
   ]
  },
  {
   "cell_type": "code",
   "execution_count": null,
   "metadata": {},
   "outputs": [],
   "source": [
    "sorted_vectors, permutation_matrices = output_sorter(y)"
   ]
  },
  {
   "cell_type": "code",
   "execution_count": null,
   "metadata": {},
   "outputs": [],
   "source": [
    "permutation_matrices[0]"
   ]
  },
  {
   "cell_type": "code",
   "execution_count": null,
   "metadata": {},
   "outputs": [],
   "source": [
    "torch.argsort(sorted_vectors)"
   ]
  },
  {
   "cell_type": "code",
   "execution_count": null,
   "metadata": {},
   "outputs": [],
   "source": [
    "sorted_vectors[0, :]"
   ]
  },
  {
   "cell_type": "code",
   "execution_count": null,
   "metadata": {},
   "outputs": [],
   "source": [
    "vector_length = 2**4\n",
    "vectors = torch.randperm(vector_length, dtype=torch.float32, device='cpu', requires_grad=True).view(1, -1)\n",
    "vectors = vectors - 5.\n",
    "\n",
    "# sort using a bitonic-sorting-network\n",
    "sorter = DiffSortNet('bitonic', vector_length, steepness=5)\n",
    "sorted_vectors, permutation_matrices = sorter(vectors)\n",
    "print(sorted_vectors)"
   ]
  },
  {
   "cell_type": "code",
   "execution_count": null,
   "metadata": {},
   "outputs": [],
   "source": [
    "permutation_matrices[0, 0, :]"
   ]
  },
  {
   "cell_type": "code",
   "execution_count": null,
   "metadata": {},
   "outputs": [],
   "source": [
    "permutation_matrices.shape"
   ]
  },
  {
   "cell_type": "code",
   "execution_count": null,
   "metadata": {},
   "outputs": [],
   "source": [
    "device = 'cuda'"
   ]
  },
  {
   "cell_type": "code",
   "execution_count": null,
   "metadata": {},
   "outputs": [],
   "source": [
    "# Toy example\n",
    "\n",
    "order = torch.range(0, 4, dtype=torch.float32, device='cuda').view(1, -1)"
   ]
  },
  {
   "cell_type": "code",
   "execution_count": null,
   "metadata": {},
   "outputs": [],
   "source": [
    "rp = torch.randperm(5)\n",
    "xx = x[:, :, rp]"
   ]
  },
  {
   "cell_type": "code",
   "execution_count": null,
   "metadata": {},
   "outputs": [],
   "source": [
    "rp"
   ]
  },
  {
   "cell_type": "code",
   "execution_count": null,
   "metadata": {},
   "outputs": [],
   "source": [
    "order = torch.arange(0, 4)"
   ]
  },
  {
   "cell_type": "code",
   "execution_count": null,
   "metadata": {},
   "outputs": [],
   "source": [
    "order"
   ]
  },
  {
   "cell_type": "code",
   "execution_count": null,
   "metadata": {},
   "outputs": [],
   "source": [
    "xxx = x[:, :, order]"
   ]
  },
  {
   "cell_type": "code",
   "execution_count": null,
   "metadata": {},
   "outputs": [],
   "source": [
    "xxx[:, :, 0]"
   ]
  },
  {
   "cell_type": "code",
   "execution_count": null,
   "metadata": {},
   "outputs": [],
   "source": [
    "x[:, :, 0]"
   ]
  },
  {
   "cell_type": "code",
   "execution_count": null,
   "metadata": {},
   "outputs": [],
   "source": [
    "xx[:, :, 1]"
   ]
  },
  {
   "cell_type": "code",
   "execution_count": null,
   "metadata": {},
   "outputs": [],
   "source": [
    "x[:, :, 2]"
   ]
  },
  {
   "cell_type": "code",
   "execution_count": null,
   "metadata": {},
   "outputs": [],
   "source": [
    "order"
   ]
  },
  {
   "cell_type": "code",
   "execution_count": null,
   "metadata": {},
   "outputs": [],
   "source": [
    "x = torch.rand(32, 32, 5)"
   ]
  },
  {
   "cell_type": "code",
   "execution_count": null,
   "metadata": {},
   "outputs": [],
   "source": []
  },
  {
   "cell_type": "code",
   "execution_count": null,
   "metadata": {},
   "outputs": [],
   "source": [
    "class TensorSorter(nn.Module):\n",
    "    def __init__(self, vector_length):\n",
    "        super(TensorSorter, self).__init__()\n",
    "        self.vector_length = vector_length\n",
    "        self.sortnet = DiffSortNet('bitonic', self.vector_length,\n",
    "                                   steepness=5)\n",
    "        \n",
    "    def forward(self, x):\n",
    "        init_order = torch.range(0, vector_length)\n",
    "        new_order, _ = self.sortnet(init_order)"
   ]
  },
  {
   "cell_type": "code",
   "execution_count": null,
   "metadata": {},
   "outputs": [],
   "source": [
    "tensor_sorter = DiffSortNet('bitonic', 5, steepness=5, device=device)\n",
    "\n",
    "torch.cuda.empty_cache()\n",
    "\n",
    "batch_size = 4\n",
    "\n",
    "n_iter = 100\n",
    "\n",
    "opt = Adam(tensor_sorter.parameters(), 1e-3)\n",
    "\n",
    "for i in tqdm(range(n_iter)):\n",
    "    \n",
    "    "
   ]
  }
 ],
 "metadata": {
  "kernelspec": {
   "display_name": "giatorch",
   "language": "python",
   "name": "python3"
  },
  "language_info": {
   "codemirror_mode": {
    "name": "ipython",
    "version": 3
   },
   "file_extension": ".py",
   "mimetype": "text/x-python",
   "name": "python",
   "nbconvert_exporter": "python",
   "pygments_lexer": "ipython3",
   "version": "3.10.9"
  },
  "orig_nbformat": 4,
  "vscode": {
   "interpreter": {
    "hash": "3f88c79eab5e25d07d6227213314c9478e4141cdc655f57022914668adb63db5"
   }
  }
 },
 "nbformat": 4,
 "nbformat_minor": 2
}
