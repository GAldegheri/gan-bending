{
 "cells": [
  {
   "cell_type": "code",
   "execution_count": 2,
   "metadata": {},
   "outputs": [],
   "source": [
    "import torch\n",
    "import torch.nn as nn\n",
    "import torch.nn.functional as F\n",
    "from diffsort import DiffSortNet\n",
    "from torch.optim import Adam\n",
    "from tqdm import tqdm"
   ]
  },
  {
   "cell_type": "code",
   "execution_count": 32,
   "metadata": {},
   "outputs": [],
   "source": [
    "import functools, operator\n",
    "\n",
    "class NFeatsEstimate(nn.Module):\n",
    "    def __init__(self, n_channels, input_size):\n",
    "        super(NFeatsEstimate, self).__init__()\n",
    "        self.n_channels = n_channels\n",
    "        \n",
    "        self.feat_extractor = nn.Sequential(\n",
    "            nn.Conv2d(self.n_channels, 32, 5),\n",
    "            nn.ReLU(inplace=True),\n",
    "            nn.MaxPool2d(2),\n",
    "            nn.Conv2d(32, 64, 5),\n",
    "            nn.ReLU(inplace=True),\n",
    "            nn.MaxPool2d(2)\n",
    "        )\n",
    "        # Trick from https://datascience.stackexchange.com/questions/40906/determining-size-of-fc-layer-after-conv-layer-in-pytorch\n",
    "        num_feats_before_fcnn = functools.reduce(\n",
    "            operator.mul,\n",
    "            list(self.feat_extractor(\n",
    "                torch.rand(1, n_channels, input_size, input_size)\n",
    "            ).shape)\n",
    "        )\n",
    "        print('Estimated:', num_feats_before_fcnn)\n",
    "        \n",
    "        self.fc1 = nn.Linear(num_feats_before_fcnn, 64)\n",
    "        self.fc2 = nn.Linear(64, self.n_channels)\n",
    "    \n",
    "    def forward(self, x):\n",
    "        batch_size = x.shape[0]  \n",
    "        \n",
    "        out = self.feat_extractor(x)\n",
    "        out = out.view(batch_size, -1)\n",
    "        print('Actual:', out.shape[1])\n",
    "        out = F.relu(self.fc1(out))\n",
    "        out = self.fc2(out)\n",
    "        \n",
    "        return out\n",
    "        "
   ]
  },
  {
   "cell_type": "code",
   "execution_count": 33,
   "metadata": {},
   "outputs": [
    {
     "name": "stdout",
     "output_type": "stream",
     "text": [
      "Estimated: 576\n"
     ]
    }
   ],
   "source": [
    "nfeatsmodel = NFeatsEstimate(3, 24)"
   ]
  },
  {
   "cell_type": "code",
   "execution_count": 34,
   "metadata": {},
   "outputs": [],
   "source": [
    "x = torch.rand(10, 3, 24, 24)"
   ]
  },
  {
   "cell_type": "code",
   "execution_count": 35,
   "metadata": {},
   "outputs": [
    {
     "name": "stdout",
     "output_type": "stream",
     "text": [
      "Actual: 576\n"
     ]
    }
   ],
   "source": [
    "y = nfeatsmodel(x)"
   ]
  },
  {
   "cell_type": "code",
   "execution_count": 37,
   "metadata": {},
   "outputs": [
    {
     "data": {
      "text/plain": [
       "tensor([ 0.0854,  0.0291, -0.0963], grad_fn=<SliceBackward0>)"
      ]
     },
     "execution_count": 37,
     "metadata": {},
     "output_type": "execute_result"
    }
   ],
   "source": [
    "y[0, :]"
   ]
  },
  {
   "cell_type": "code",
   "execution_count": 38,
   "metadata": {},
   "outputs": [],
   "source": [
    "output_sorter = DiffSortNet('bitonic', 3, steepness=5)"
   ]
  },
  {
   "cell_type": "code",
   "execution_count": 39,
   "metadata": {},
   "outputs": [],
   "source": [
    "sorted_vectors, permutation_matrices = output_sorter(y)"
   ]
  },
  {
   "cell_type": "code",
   "execution_count": 40,
   "metadata": {},
   "outputs": [
    {
     "data": {
      "text/plain": [
       "tensor([-0.0130,  0.0111,  0.0201], grad_fn=<SliceBackward0>)"
      ]
     },
     "execution_count": 40,
     "metadata": {},
     "output_type": "execute_result"
    }
   ],
   "source": [
    "sorted_vectors[0, :]"
   ]
  },
  {
   "cell_type": "code",
   "execution_count": 12,
   "metadata": {},
   "outputs": [
    {
     "name": "stdout",
     "output_type": "stream",
     "text": [
      "tensor([[-4.3655e+00, -3.6170e+00, -2.4922e+00, -1.7446e+00, -7.4628e-01,\n",
      "          1.1393e-03,  1.1265e+00,  1.8729e+00,  3.0004e+00,  3.8730e+00,\n",
      "          4.9990e+00,  5.6191e+00,  6.7452e+00,  7.8702e+00,  8.4936e+00,\n",
      "          9.3647e+00]], grad_fn=<AddBackward0>)\n"
     ]
    }
   ],
   "source": [
    "vector_length = 2**4\n",
    "vectors = torch.randperm(vector_length, dtype=torch.float32, device='cpu', requires_grad=True).view(1, -1)\n",
    "vectors = vectors - 5.\n",
    "\n",
    "# sort using a bitonic-sorting-network\n",
    "sorter = DiffSortNet('bitonic', vector_length, steepness=5)\n",
    "sorted_vectors, permutation_matrices = sorter(vectors)\n",
    "print(sorted_vectors)"
   ]
  },
  {
   "cell_type": "code",
   "execution_count": 42,
   "metadata": {},
   "outputs": [
    {
     "data": {
      "text/plain": [
       "tensor([0.0089, 0.0096, 0.0013, 0.0018, 0.0364, 0.0276, 0.0594, 0.7393, 0.0595,\n",
       "        0.0294, 0.0031, 0.0138, 0.0011, 0.0008, 0.0011, 0.0068],\n",
       "       grad_fn=<SliceBackward0>)"
      ]
     },
     "execution_count": 42,
     "metadata": {},
     "output_type": "execute_result"
    }
   ],
   "source": [
    "permutation_matrices[0, 0, :]"
   ]
  },
  {
   "cell_type": "code",
   "execution_count": 38,
   "metadata": {},
   "outputs": [
    {
     "data": {
      "text/plain": [
       "torch.Size([1, 16, 16])"
      ]
     },
     "execution_count": 38,
     "metadata": {},
     "output_type": "execute_result"
    }
   ],
   "source": [
    "permutation_matrices.shape"
   ]
  },
  {
   "cell_type": "code",
   "execution_count": 10,
   "metadata": {},
   "outputs": [],
   "source": [
    "device = 'cuda'"
   ]
  },
  {
   "cell_type": "code",
   "execution_count": 16,
   "metadata": {},
   "outputs": [
    {
     "name": "stderr",
     "output_type": "stream",
     "text": [
      "C:\\Users\\giaco\\AppData\\Local\\Temp\\ipykernel_34608\\162892074.py:3: UserWarning: torch.range is deprecated and will be removed in a future release because its behavior is inconsistent with Python's range builtin. Instead, use torch.arange, which produces values in [start, end).\n",
      "  order = torch.range(0, 4, dtype=torch.float32, device='cuda').view(1, -1)\n"
     ]
    }
   ],
   "source": [
    "# Toy example\n",
    "\n",
    "order = torch.range(0, 4, dtype=torch.float32, device='cuda').view(1, -1)"
   ]
  },
  {
   "cell_type": "code",
   "execution_count": 25,
   "metadata": {},
   "outputs": [],
   "source": [
    "rp = torch.randperm(5)\n",
    "xx = x[:, :, rp]"
   ]
  },
  {
   "cell_type": "code",
   "execution_count": 26,
   "metadata": {},
   "outputs": [
    {
     "data": {
      "text/plain": [
       "tensor([4, 2, 0, 3, 1])"
      ]
     },
     "execution_count": 26,
     "metadata": {},
     "output_type": "execute_result"
    }
   ],
   "source": [
    "rp"
   ]
  },
  {
   "cell_type": "code",
   "execution_count": 32,
   "metadata": {},
   "outputs": [],
   "source": [
    "order = torch.arange(0, 4)"
   ]
  },
  {
   "cell_type": "code",
   "execution_count": 33,
   "metadata": {},
   "outputs": [
    {
     "data": {
      "text/plain": [
       "tensor([0, 1, 2, 3])"
      ]
     },
     "execution_count": 33,
     "metadata": {},
     "output_type": "execute_result"
    }
   ],
   "source": [
    "order"
   ]
  },
  {
   "cell_type": "code",
   "execution_count": 34,
   "metadata": {},
   "outputs": [],
   "source": [
    "xxx = x[:, :, order]"
   ]
  },
  {
   "cell_type": "code",
   "execution_count": 35,
   "metadata": {},
   "outputs": [
    {
     "data": {
      "text/plain": [
       "tensor([[0.5484, 0.2939, 0.5618,  ..., 0.1041, 0.7093, 0.3379],\n",
       "        [0.9113, 0.9405, 0.8850,  ..., 0.3878, 0.8800, 0.4208],\n",
       "        [0.4252, 0.1380, 0.9859,  ..., 0.9901, 0.6075, 0.0245],\n",
       "        ...,\n",
       "        [0.8270, 0.5652, 0.9940,  ..., 0.7776, 0.4276, 0.6980],\n",
       "        [0.5070, 0.3908, 0.7123,  ..., 0.8939, 0.8492, 0.2130],\n",
       "        [0.1029, 0.6063, 0.6649,  ..., 0.4715, 0.1156, 0.1094]])"
      ]
     },
     "execution_count": 35,
     "metadata": {},
     "output_type": "execute_result"
    }
   ],
   "source": [
    "xxx[:, :, 0]"
   ]
  },
  {
   "cell_type": "code",
   "execution_count": 36,
   "metadata": {},
   "outputs": [
    {
     "data": {
      "text/plain": [
       "tensor([[0.5484, 0.2939, 0.5618,  ..., 0.1041, 0.7093, 0.3379],\n",
       "        [0.9113, 0.9405, 0.8850,  ..., 0.3878, 0.8800, 0.4208],\n",
       "        [0.4252, 0.1380, 0.9859,  ..., 0.9901, 0.6075, 0.0245],\n",
       "        ...,\n",
       "        [0.8270, 0.5652, 0.9940,  ..., 0.7776, 0.4276, 0.6980],\n",
       "        [0.5070, 0.3908, 0.7123,  ..., 0.8939, 0.8492, 0.2130],\n",
       "        [0.1029, 0.6063, 0.6649,  ..., 0.4715, 0.1156, 0.1094]])"
      ]
     },
     "execution_count": 36,
     "metadata": {},
     "output_type": "execute_result"
    }
   ],
   "source": [
    "x[:, :, 0]"
   ]
  },
  {
   "cell_type": "code",
   "execution_count": 29,
   "metadata": {},
   "outputs": [
    {
     "data": {
      "text/plain": [
       "tensor([[0.1903, 0.7706, 0.3053,  ..., 0.3698, 0.1177, 0.8657],\n",
       "        [0.2454, 0.4232, 0.0497,  ..., 0.6887, 0.4966, 0.5243],\n",
       "        [0.1692, 0.4444, 0.0849,  ..., 0.1065, 0.0825, 0.8605],\n",
       "        ...,\n",
       "        [0.8798, 0.2669, 0.0934,  ..., 0.9787, 0.4542, 0.4507],\n",
       "        [0.0577, 0.9786, 0.0999,  ..., 0.8592, 0.8941, 0.0569],\n",
       "        [0.8539, 0.4721, 0.9536,  ..., 0.4351, 0.8505, 0.2961]])"
      ]
     },
     "execution_count": 29,
     "metadata": {},
     "output_type": "execute_result"
    }
   ],
   "source": [
    "xx[:, :, 1]"
   ]
  },
  {
   "cell_type": "code",
   "execution_count": 30,
   "metadata": {},
   "outputs": [
    {
     "data": {
      "text/plain": [
       "tensor([[0.1903, 0.7706, 0.3053,  ..., 0.3698, 0.1177, 0.8657],\n",
       "        [0.2454, 0.4232, 0.0497,  ..., 0.6887, 0.4966, 0.5243],\n",
       "        [0.1692, 0.4444, 0.0849,  ..., 0.1065, 0.0825, 0.8605],\n",
       "        ...,\n",
       "        [0.8798, 0.2669, 0.0934,  ..., 0.9787, 0.4542, 0.4507],\n",
       "        [0.0577, 0.9786, 0.0999,  ..., 0.8592, 0.8941, 0.0569],\n",
       "        [0.8539, 0.4721, 0.9536,  ..., 0.4351, 0.8505, 0.2961]])"
      ]
     },
     "execution_count": 30,
     "metadata": {},
     "output_type": "execute_result"
    }
   ],
   "source": [
    "x[:, :, 2]"
   ]
  },
  {
   "cell_type": "code",
   "execution_count": 14,
   "metadata": {},
   "outputs": [
    {
     "data": {
      "text/plain": [
       "tensor([[0., 1., 2., 3., 4.]], device='cuda:0')"
      ]
     },
     "execution_count": 14,
     "metadata": {},
     "output_type": "execute_result"
    }
   ],
   "source": [
    "order"
   ]
  },
  {
   "cell_type": "code",
   "execution_count": 21,
   "metadata": {},
   "outputs": [],
   "source": [
    "x = torch.rand(32, 32, 5)"
   ]
  },
  {
   "cell_type": "code",
   "execution_count": null,
   "metadata": {},
   "outputs": [],
   "source": []
  },
  {
   "cell_type": "code",
   "execution_count": null,
   "metadata": {},
   "outputs": [],
   "source": [
    "class TensorSorter(nn.Module):\n",
    "    def __init__(self, vector_length):\n",
    "        super(TensorSorter, self).__init__()\n",
    "        self.vector_length = vector_length\n",
    "        self.sortnet = DiffSortNet('bitonic', self.vector_length,\n",
    "                                   steepness=5)\n",
    "        \n",
    "    def forward(self, x):\n",
    "        init_order = torch.range(0, vector_length)\n",
    "        new_order, _ = self.sortnet(init_order)"
   ]
  },
  {
   "cell_type": "code",
   "execution_count": null,
   "metadata": {},
   "outputs": [],
   "source": [
    "tensor_sorter = DiffSortNet('bitonic', 5, steepness=5, device=device)\n",
    "\n",
    "torch.cuda.empty_cache()\n",
    "\n",
    "batch_size = 4\n",
    "\n",
    "n_iter = 100\n",
    "\n",
    "opt = Adam(tensor_sorter.parameters(), 1e-3)\n",
    "\n",
    "for i in tqdm(range(n_iter)):\n",
    "    \n",
    "    "
   ]
  }
 ],
 "metadata": {
  "kernelspec": {
   "display_name": "giatorch",
   "language": "python",
   "name": "python3"
  },
  "language_info": {
   "codemirror_mode": {
    "name": "ipython",
    "version": 3
   },
   "file_extension": ".py",
   "mimetype": "text/x-python",
   "name": "python",
   "nbconvert_exporter": "python",
   "pygments_lexer": "ipython3",
   "version": "3.10.9 | packaged by conda-forge | (main, Jan 11 2023, 15:15:40) [MSC v.1916 64 bit (AMD64)]"
  },
  "orig_nbformat": 4,
  "vscode": {
   "interpreter": {
    "hash": "3f88c79eab5e25d07d6227213314c9478e4141cdc655f57022914668adb63db5"
   }
  }
 },
 "nbformat": 4,
 "nbformat_minor": 2
}
