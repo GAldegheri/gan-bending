{
  "cells": [
    {
      "cell_type": "code",
      "execution_count": null,
      "metadata": {
        "colab": {
          "base_uri": "https://localhost:8080/"
        },
        "id": "B_smgTfsZG6f",
        "outputId": "aefb9b23-c670-493d-fa99-ef0a6fe91a3c"
      },
      "outputs": [
        {
          "output_type": "stream",
          "name": "stdout",
          "text": [
            "Mounted at /content/drive\n",
            "/content/drive/MyDrive/Colab Notebooks/gan-bending-master\n"
          ]
        }
      ],
      "source": [
        "from google.colab import drive\n",
        "drive.mount('/content/drive')\n",
        "\n",
        "%cd drive/MyDrive/'Colab Notebooks'/gan-bending-master"
      ]
    },
    {
      "cell_type": "code",
      "source": [
        "!pip install community-events/."
      ],
      "metadata": {
        "colab": {
          "base_uri": "https://localhost:8080/"
        },
        "id": "s_oR2d7oZL0X",
        "outputId": "0873422f-5337-4837-a9ef-fb41781a61d2"
      },
      "execution_count": null,
      "outputs": [
        {
          "output_type": "stream",
          "name": "stdout",
          "text": [
            "Processing ./community-events\n",
            "  Preparing metadata (setup.py) ... \u001b[?25l\u001b[?25hdone\n",
            "Collecting accelerate (from huggan==0.0.0)\n",
            "  Downloading accelerate-0.23.0-py3-none-any.whl (258 kB)\n",
            "\u001b[2K     \u001b[90m━━━━━━━━━━━━━━━━━━━━━━━━━━━━━━━━━━━━━━━\u001b[0m \u001b[32m258.1/258.1 kB\u001b[0m \u001b[31m5.5 MB/s\u001b[0m eta \u001b[36m0:00:00\u001b[0m\n",
            "\u001b[?25hRequirement already satisfied: torch in /usr/local/lib/python3.10/dist-packages (from huggan==0.0.0) (2.0.1+cu118)\n",
            "Requirement already satisfied: torchvision in /usr/local/lib/python3.10/dist-packages (from huggan==0.0.0) (0.15.2+cu118)\n",
            "Collecting datasets (from huggan==0.0.0)\n",
            "  Downloading datasets-2.14.5-py3-none-any.whl (519 kB)\n",
            "\u001b[2K     \u001b[90m━━━━━━━━━━━━━━━━━━━━━━━━━━━━━━━━━━━━━━\u001b[0m \u001b[32m519.6/519.6 kB\u001b[0m \u001b[31m23.0 MB/s\u001b[0m eta \u001b[36m0:00:00\u001b[0m\n",
            "\u001b[?25hRequirement already satisfied: scipy in /usr/local/lib/python3.10/dist-packages (from huggan==0.0.0) (1.11.2)\n",
            "Collecting wandb (from huggan==0.0.0)\n",
            "  Downloading wandb-0.15.11-py3-none-any.whl (2.1 MB)\n",
            "\u001b[2K     \u001b[90m━━━━━━━━━━━━━━━━━━━━━━━━━━━━━━━━━━━━━━━━\u001b[0m \u001b[32m2.1/2.1 MB\u001b[0m \u001b[31m29.3 MB/s\u001b[0m eta \u001b[36m0:00:00\u001b[0m\n",
            "\u001b[?25hCollecting einops (from huggan==0.0.0)\n",
            "  Downloading einops-0.6.1-py3-none-any.whl (42 kB)\n",
            "\u001b[2K     \u001b[90m━━━━━━━━━━━━━━━━━━━━━━━━━━━━━━━━━━━━━━━━\u001b[0m \u001b[32m42.2/42.2 kB\u001b[0m \u001b[31m5.3 MB/s\u001b[0m eta \u001b[36m0:00:00\u001b[0m\n",
            "\u001b[?25hCollecting fire (from huggan==0.0.0)\n",
            "  Downloading fire-0.5.0.tar.gz (88 kB)\n",
            "\u001b[2K     \u001b[90m━━━━━━━━━━━━━━━━━━━━━━━━━━━━━━━━━━━━━━━━\u001b[0m \u001b[32m88.3/88.3 kB\u001b[0m \u001b[31m11.9 MB/s\u001b[0m eta \u001b[36m0:00:00\u001b[0m\n",
            "\u001b[?25h  Preparing metadata (setup.py) ... \u001b[?25l\u001b[?25hdone\n",
            "Collecting retry (from huggan==0.0.0)\n",
            "  Downloading retry-0.9.2-py2.py3-none-any.whl (8.0 kB)\n",
            "Collecting kornia==0.5.4 (from huggan==0.0.0)\n",
            "  Downloading kornia-0.5.4-py2.py3-none-any.whl (285 kB)\n",
            "\u001b[2K     \u001b[90m━━━━━━━━━━━━━━━━━━━━━━━━━━━━━━━━━━━━━━\u001b[0m \u001b[32m285.7/285.7 kB\u001b[0m \u001b[31m28.2 MB/s\u001b[0m eta \u001b[36m0:00:00\u001b[0m\n",
            "\u001b[?25hRequirement already satisfied: numpy in /usr/local/lib/python3.10/dist-packages (from kornia==0.5.4->huggan==0.0.0) (1.23.5)\n",
            "Requirement already satisfied: filelock in /usr/local/lib/python3.10/dist-packages (from torch->huggan==0.0.0) (3.12.2)\n",
            "Requirement already satisfied: typing-extensions in /usr/local/lib/python3.10/dist-packages (from torch->huggan==0.0.0) (4.5.0)\n",
            "Requirement already satisfied: sympy in /usr/local/lib/python3.10/dist-packages (from torch->huggan==0.0.0) (1.12)\n",
            "Requirement already satisfied: networkx in /usr/local/lib/python3.10/dist-packages (from torch->huggan==0.0.0) (3.1)\n",
            "Requirement already satisfied: jinja2 in /usr/local/lib/python3.10/dist-packages (from torch->huggan==0.0.0) (3.1.2)\n",
            "Requirement already satisfied: triton==2.0.0 in /usr/local/lib/python3.10/dist-packages (from torch->huggan==0.0.0) (2.0.0)\n",
            "Requirement already satisfied: cmake in /usr/local/lib/python3.10/dist-packages (from triton==2.0.0->torch->huggan==0.0.0) (3.27.4.1)\n",
            "Requirement already satisfied: lit in /usr/local/lib/python3.10/dist-packages (from triton==2.0.0->torch->huggan==0.0.0) (16.0.6)\n",
            "Requirement already satisfied: packaging>=20.0 in /usr/local/lib/python3.10/dist-packages (from accelerate->huggan==0.0.0) (23.1)\n",
            "Requirement already satisfied: psutil in /usr/local/lib/python3.10/dist-packages (from accelerate->huggan==0.0.0) (5.9.5)\n",
            "Requirement already satisfied: pyyaml in /usr/local/lib/python3.10/dist-packages (from accelerate->huggan==0.0.0) (6.0.1)\n",
            "Collecting huggingface-hub (from accelerate->huggan==0.0.0)\n",
            "  Downloading huggingface_hub-0.17.3-py3-none-any.whl (295 kB)\n",
            "\u001b[2K     \u001b[90m━━━━━━━━━━━━━━━━━━━━━━━━━━━━━━━━━━━━━━\u001b[0m \u001b[32m295.0/295.0 kB\u001b[0m \u001b[31m31.2 MB/s\u001b[0m eta \u001b[36m0:00:00\u001b[0m\n",
            "\u001b[?25hRequirement already satisfied: pyarrow>=8.0.0 in /usr/local/lib/python3.10/dist-packages (from datasets->huggan==0.0.0) (9.0.0)\n",
            "Collecting dill<0.3.8,>=0.3.0 (from datasets->huggan==0.0.0)\n",
            "  Downloading dill-0.3.7-py3-none-any.whl (115 kB)\n",
            "\u001b[2K     \u001b[90m━━━━━━━━━━━━━━━━━━━━━━━━━━━━━━━━━━━━━━\u001b[0m \u001b[32m115.3/115.3 kB\u001b[0m \u001b[31m14.7 MB/s\u001b[0m eta \u001b[36m0:00:00\u001b[0m\n",
            "\u001b[?25hRequirement already satisfied: pandas in /usr/local/lib/python3.10/dist-packages (from datasets->huggan==0.0.0) (1.5.3)\n",
            "Requirement already satisfied: requests>=2.19.0 in /usr/local/lib/python3.10/dist-packages (from datasets->huggan==0.0.0) (2.31.0)\n",
            "Requirement already satisfied: tqdm>=4.62.1 in /usr/local/lib/python3.10/dist-packages (from datasets->huggan==0.0.0) (4.66.1)\n",
            "Collecting xxhash (from datasets->huggan==0.0.0)\n",
            "  Downloading xxhash-3.3.0-cp310-cp310-manylinux_2_17_x86_64.manylinux2014_x86_64.whl (194 kB)\n",
            "\u001b[2K     \u001b[90m━━━━━━━━━━━━━━━━━━━━━━━━━━━━━━━━━━━━━━\u001b[0m \u001b[32m194.1/194.1 kB\u001b[0m \u001b[31m21.8 MB/s\u001b[0m eta \u001b[36m0:00:00\u001b[0m\n",
            "\u001b[?25hCollecting multiprocess (from datasets->huggan==0.0.0)\n",
            "  Downloading multiprocess-0.70.15-py310-none-any.whl (134 kB)\n",
            "\u001b[2K     \u001b[90m━━━━━━━━━━━━━━━━━━━━━━━━━━━━━━━━━━━━━━\u001b[0m \u001b[32m134.8/134.8 kB\u001b[0m \u001b[31m13.3 MB/s\u001b[0m eta \u001b[36m0:00:00\u001b[0m\n",
            "\u001b[?25hRequirement already satisfied: fsspec[http]<2023.9.0,>=2023.1.0 in /usr/local/lib/python3.10/dist-packages (from datasets->huggan==0.0.0) (2023.6.0)\n",
            "Requirement already satisfied: aiohttp in /usr/local/lib/python3.10/dist-packages (from datasets->huggan==0.0.0) (3.8.5)\n",
            "Requirement already satisfied: six in /usr/local/lib/python3.10/dist-packages (from fire->huggan==0.0.0) (1.16.0)\n",
            "Requirement already satisfied: termcolor in /usr/local/lib/python3.10/dist-packages (from fire->huggan==0.0.0) (2.3.0)\n",
            "Requirement already satisfied: decorator>=3.4.2 in /usr/local/lib/python3.10/dist-packages (from retry->huggan==0.0.0) (4.4.2)\n",
            "Collecting py<2.0.0,>=1.4.26 (from retry->huggan==0.0.0)\n",
            "  Downloading py-1.11.0-py2.py3-none-any.whl (98 kB)\n",
            "\u001b[2K     \u001b[90m━━━━━━━━━━━━━━━━━━━━━━━━━━━━━━━━━━━━━━━━\u001b[0m \u001b[32m98.7/98.7 kB\u001b[0m \u001b[31m14.0 MB/s\u001b[0m eta \u001b[36m0:00:00\u001b[0m\n",
            "\u001b[?25hRequirement already satisfied: pillow!=8.3.*,>=5.3.0 in /usr/local/lib/python3.10/dist-packages (from torchvision->huggan==0.0.0) (9.4.0)\n",
            "Requirement already satisfied: Click!=8.0.0,>=7.1 in /usr/local/lib/python3.10/dist-packages (from wandb->huggan==0.0.0) (8.1.7)\n",
            "Collecting GitPython!=3.1.29,>=1.0.0 (from wandb->huggan==0.0.0)\n",
            "  Downloading GitPython-3.1.37-py3-none-any.whl (190 kB)\n",
            "\u001b[2K     \u001b[90m━━━━━━━━━━━━━━━━━━━━━━━━━━━━━━━━━━━━━━\u001b[0m \u001b[32m190.0/190.0 kB\u001b[0m \u001b[31m21.6 MB/s\u001b[0m eta \u001b[36m0:00:00\u001b[0m\n",
            "\u001b[?25hCollecting sentry-sdk>=1.0.0 (from wandb->huggan==0.0.0)\n",
            "  Downloading sentry_sdk-1.31.0-py2.py3-none-any.whl (224 kB)\n",
            "\u001b[2K     \u001b[90m━━━━━━━━━━━━━━━━━━━━━━━━━━━━━━━━━━━━━━\u001b[0m \u001b[32m224.8/224.8 kB\u001b[0m \u001b[31m23.9 MB/s\u001b[0m eta \u001b[36m0:00:00\u001b[0m\n",
            "\u001b[?25hCollecting docker-pycreds>=0.4.0 (from wandb->huggan==0.0.0)\n",
            "  Downloading docker_pycreds-0.4.0-py2.py3-none-any.whl (9.0 kB)\n",
            "Collecting pathtools (from wandb->huggan==0.0.0)\n",
            "  Downloading pathtools-0.1.2.tar.gz (11 kB)\n",
            "  Preparing metadata (setup.py) ... \u001b[?25l\u001b[?25hdone\n",
            "Collecting setproctitle (from wandb->huggan==0.0.0)\n",
            "  Downloading setproctitle-1.3.2-cp310-cp310-manylinux_2_5_x86_64.manylinux1_x86_64.manylinux_2_17_x86_64.manylinux2014_x86_64.whl (30 kB)\n",
            "Requirement already satisfied: setuptools in /usr/local/lib/python3.10/dist-packages (from wandb->huggan==0.0.0) (67.7.2)\n",
            "Requirement already satisfied: appdirs>=1.4.3 in /usr/local/lib/python3.10/dist-packages (from wandb->huggan==0.0.0) (1.4.4)\n",
            "Requirement already satisfied: protobuf!=4.21.0,<5,>=3.19.0 in /usr/local/lib/python3.10/dist-packages (from wandb->huggan==0.0.0) (3.20.3)\n",
            "Requirement already satisfied: attrs>=17.3.0 in /usr/local/lib/python3.10/dist-packages (from aiohttp->datasets->huggan==0.0.0) (23.1.0)\n",
            "Requirement already satisfied: charset-normalizer<4.0,>=2.0 in /usr/local/lib/python3.10/dist-packages (from aiohttp->datasets->huggan==0.0.0) (3.2.0)\n",
            "Requirement already satisfied: multidict<7.0,>=4.5 in /usr/local/lib/python3.10/dist-packages (from aiohttp->datasets->huggan==0.0.0) (6.0.4)\n",
            "Requirement already satisfied: async-timeout<5.0,>=4.0.0a3 in /usr/local/lib/python3.10/dist-packages (from aiohttp->datasets->huggan==0.0.0) (4.0.3)\n",
            "Requirement already satisfied: yarl<2.0,>=1.0 in /usr/local/lib/python3.10/dist-packages (from aiohttp->datasets->huggan==0.0.0) (1.9.2)\n",
            "Requirement already satisfied: frozenlist>=1.1.1 in /usr/local/lib/python3.10/dist-packages (from aiohttp->datasets->huggan==0.0.0) (1.4.0)\n",
            "Requirement already satisfied: aiosignal>=1.1.2 in /usr/local/lib/python3.10/dist-packages (from aiohttp->datasets->huggan==0.0.0) (1.3.1)\n",
            "Collecting gitdb<5,>=4.0.1 (from GitPython!=3.1.29,>=1.0.0->wandb->huggan==0.0.0)\n",
            "  Downloading gitdb-4.0.10-py3-none-any.whl (62 kB)\n",
            "\u001b[2K     \u001b[90m━━━━━━━━━━━━━━━━━━━━━━━━━━━━━━━━━━━━━━━━\u001b[0m \u001b[32m62.7/62.7 kB\u001b[0m \u001b[31m8.7 MB/s\u001b[0m eta \u001b[36m0:00:00\u001b[0m\n",
            "\u001b[?25hRequirement already satisfied: idna<4,>=2.5 in /usr/local/lib/python3.10/dist-packages (from requests>=2.19.0->datasets->huggan==0.0.0) (3.4)\n",
            "Requirement already satisfied: urllib3<3,>=1.21.1 in /usr/local/lib/python3.10/dist-packages (from requests>=2.19.0->datasets->huggan==0.0.0) (2.0.4)\n",
            "Requirement already satisfied: certifi>=2017.4.17 in /usr/local/lib/python3.10/dist-packages (from requests>=2.19.0->datasets->huggan==0.0.0) (2023.7.22)\n",
            "Requirement already satisfied: MarkupSafe>=2.0 in /usr/local/lib/python3.10/dist-packages (from jinja2->torch->huggan==0.0.0) (2.1.3)\n",
            "Requirement already satisfied: python-dateutil>=2.8.1 in /usr/local/lib/python3.10/dist-packages (from pandas->datasets->huggan==0.0.0) (2.8.2)\n",
            "Requirement already satisfied: pytz>=2020.1 in /usr/local/lib/python3.10/dist-packages (from pandas->datasets->huggan==0.0.0) (2023.3.post1)\n",
            "Requirement already satisfied: mpmath>=0.19 in /usr/local/lib/python3.10/dist-packages (from sympy->torch->huggan==0.0.0) (1.3.0)\n",
            "Collecting smmap<6,>=3.0.1 (from gitdb<5,>=4.0.1->GitPython!=3.1.29,>=1.0.0->wandb->huggan==0.0.0)\n",
            "  Downloading smmap-5.0.1-py3-none-any.whl (24 kB)\n",
            "Building wheels for collected packages: huggan, fire, pathtools\n",
            "  Building wheel for huggan (setup.py) ... \u001b[?25l\u001b[?25hdone\n",
            "  Created wheel for huggan: filename=huggan-0.0.0-py3-none-any.whl size=42626 sha256=3a5093729a70a5c497aaf332cc9e7d6d74dcf003015ba75edc5a3e0271a32518\n",
            "  Stored in directory: /root/.cache/pip/wheels/dc/60/b5/6c2af0611c98c16203006e6110d0ad85252b08312027ff91d5\n",
            "  Building wheel for fire (setup.py) ... \u001b[?25l\u001b[?25hdone\n",
            "  Created wheel for fire: filename=fire-0.5.0-py2.py3-none-any.whl size=116934 sha256=16aa112c5fe390768d36486019d831e1d524922d7468189e2628d18829159105\n",
            "  Stored in directory: /root/.cache/pip/wheels/90/d4/f7/9404e5db0116bd4d43e5666eaa3e70ab53723e1e3ea40c9a95\n",
            "  Building wheel for pathtools (setup.py) ... \u001b[?25l\u001b[?25hdone\n",
            "  Created wheel for pathtools: filename=pathtools-0.1.2-py3-none-any.whl size=8791 sha256=23add4423da3d6922b385bc534ac364b287b050fbcea9f1e9b9811b50c89ec73\n",
            "  Stored in directory: /root/.cache/pip/wheels/e7/f3/22/152153d6eb222ee7a56ff8617d80ee5207207a8c00a7aab794\n",
            "Successfully built huggan fire pathtools\n",
            "Installing collected packages: pathtools, xxhash, smmap, setproctitle, sentry-sdk, py, fire, einops, docker-pycreds, dill, retry, multiprocess, huggingface-hub, gitdb, GitPython, wandb, datasets, kornia, accelerate, huggan\n",
            "Successfully installed GitPython-3.1.37 accelerate-0.23.0 datasets-2.14.5 dill-0.3.7 docker-pycreds-0.4.0 einops-0.6.1 fire-0.5.0 gitdb-4.0.10 huggan-0.0.0 huggingface-hub-0.17.3 kornia-0.5.4 multiprocess-0.70.15 pathtools-0.1.2 py-1.11.0 retry-0.9.2 sentry-sdk-1.31.0 setproctitle-1.3.2 smmap-5.0.1 wandb-0.15.11 xxhash-3.3.0\n"
          ]
        }
      ]
    },
    {
      "cell_type": "code",
      "source": [
        "!pip install ipdb matplotlib open_clip_torch diffsort"
      ],
      "metadata": {
        "colab": {
          "base_uri": "https://localhost:8080/"
        },
        "id": "zaGnoZX-ZNCv",
        "outputId": "699952a7-b970-4876-fef9-4db3ceb3ac74"
      },
      "execution_count": null,
      "outputs": [
        {
          "output_type": "stream",
          "name": "stdout",
          "text": [
            "Collecting ipdb\n",
            "  Downloading ipdb-0.13.13-py3-none-any.whl (12 kB)\n",
            "Requirement already satisfied: matplotlib in /usr/local/lib/python3.10/dist-packages (3.7.1)\n",
            "Collecting open_clip_torch\n",
            "  Downloading open_clip_torch-2.20.0-py3-none-any.whl (1.5 MB)\n",
            "\u001b[2K     \u001b[90m━━━━━━━━━━━━━━━━━━━━━━━━━━━━━━━━━━━━━━━━\u001b[0m \u001b[32m1.5/1.5 MB\u001b[0m \u001b[31m18.8 MB/s\u001b[0m eta \u001b[36m0:00:00\u001b[0m\n",
            "\u001b[?25hCollecting diffsort\n",
            "  Downloading diffsort-0.2.0-py3-none-any.whl (7.2 kB)\n",
            "Requirement already satisfied: ipython>=7.31.1 in /usr/local/lib/python3.10/dist-packages (from ipdb) (7.34.0)\n",
            "Requirement already satisfied: tomli in /usr/local/lib/python3.10/dist-packages (from ipdb) (2.0.1)\n",
            "Requirement already satisfied: decorator in /usr/local/lib/python3.10/dist-packages (from ipdb) (4.4.2)\n",
            "Requirement already satisfied: contourpy>=1.0.1 in /usr/local/lib/python3.10/dist-packages (from matplotlib) (1.1.0)\n",
            "Requirement already satisfied: cycler>=0.10 in /usr/local/lib/python3.10/dist-packages (from matplotlib) (0.11.0)\n",
            "Requirement already satisfied: fonttools>=4.22.0 in /usr/local/lib/python3.10/dist-packages (from matplotlib) (4.42.1)\n",
            "Requirement already satisfied: kiwisolver>=1.0.1 in /usr/local/lib/python3.10/dist-packages (from matplotlib) (1.4.5)\n",
            "Requirement already satisfied: numpy>=1.20 in /usr/local/lib/python3.10/dist-packages (from matplotlib) (1.23.5)\n",
            "Requirement already satisfied: packaging>=20.0 in /usr/local/lib/python3.10/dist-packages (from matplotlib) (23.1)\n",
            "Requirement already satisfied: pillow>=6.2.0 in /usr/local/lib/python3.10/dist-packages (from matplotlib) (9.4.0)\n",
            "Requirement already satisfied: pyparsing>=2.3.1 in /usr/local/lib/python3.10/dist-packages (from matplotlib) (3.1.1)\n",
            "Requirement already satisfied: python-dateutil>=2.7 in /usr/local/lib/python3.10/dist-packages (from matplotlib) (2.8.2)\n",
            "Requirement already satisfied: torch>=1.9.0 in /usr/local/lib/python3.10/dist-packages (from open_clip_torch) (2.0.1+cu118)\n",
            "Requirement already satisfied: torchvision in /usr/local/lib/python3.10/dist-packages (from open_clip_torch) (0.15.2+cu118)\n",
            "Requirement already satisfied: regex in /usr/local/lib/python3.10/dist-packages (from open_clip_torch) (2023.6.3)\n",
            "Collecting ftfy (from open_clip_torch)\n",
            "  Downloading ftfy-6.1.1-py3-none-any.whl (53 kB)\n",
            "\u001b[2K     \u001b[90m━━━━━━━━━━━━━━━━━━━━━━━━━━━━━━━━━━━━━━━━\u001b[0m \u001b[32m53.1/53.1 kB\u001b[0m \u001b[31m6.6 MB/s\u001b[0m eta \u001b[36m0:00:00\u001b[0m\n",
            "\u001b[?25hRequirement already satisfied: tqdm in /usr/local/lib/python3.10/dist-packages (from open_clip_torch) (4.66.1)\n",
            "Requirement already satisfied: huggingface-hub in /usr/local/lib/python3.10/dist-packages (from open_clip_torch) (0.17.3)\n",
            "Collecting sentencepiece (from open_clip_torch)\n",
            "  Downloading sentencepiece-0.1.99-cp310-cp310-manylinux_2_17_x86_64.manylinux2014_x86_64.whl (1.3 MB)\n",
            "\u001b[2K     \u001b[90m━━━━━━━━━━━━━━━━━━━━━━━━━━━━━━━━━━━━━━━━\u001b[0m \u001b[32m1.3/1.3 MB\u001b[0m \u001b[31m59.6 MB/s\u001b[0m eta \u001b[36m0:00:00\u001b[0m\n",
            "\u001b[?25hRequirement already satisfied: protobuf<4 in /usr/local/lib/python3.10/dist-packages (from open_clip_torch) (3.20.3)\n",
            "Collecting timm (from open_clip_torch)\n",
            "  Downloading timm-0.9.7-py3-none-any.whl (2.2 MB)\n",
            "\u001b[2K     \u001b[90m━━━━━━━━━━━━━━━━━━━━━━━━━━━━━━━━━━━━━━━━\u001b[0m \u001b[32m2.2/2.2 MB\u001b[0m \u001b[31m93.9 MB/s\u001b[0m eta \u001b[36m0:00:00\u001b[0m\n",
            "\u001b[?25hRequirement already satisfied: setuptools>=18.5 in /usr/local/lib/python3.10/dist-packages (from ipython>=7.31.1->ipdb) (67.7.2)\n",
            "Collecting jedi>=0.16 (from ipython>=7.31.1->ipdb)\n",
            "  Downloading jedi-0.19.0-py2.py3-none-any.whl (1.6 MB)\n",
            "\u001b[2K     \u001b[90m━━━━━━━━━━━━━━━━━━━━━━━━━━━━━━━━━━━━━━━━\u001b[0m \u001b[32m1.6/1.6 MB\u001b[0m \u001b[31m76.1 MB/s\u001b[0m eta \u001b[36m0:00:00\u001b[0m\n",
            "\u001b[?25hRequirement already satisfied: pickleshare in /usr/local/lib/python3.10/dist-packages (from ipython>=7.31.1->ipdb) (0.7.5)\n",
            "Requirement already satisfied: traitlets>=4.2 in /usr/local/lib/python3.10/dist-packages (from ipython>=7.31.1->ipdb) (5.7.1)\n",
            "Requirement already satisfied: prompt-toolkit!=3.0.0,!=3.0.1,<3.1.0,>=2.0.0 in /usr/local/lib/python3.10/dist-packages (from ipython>=7.31.1->ipdb) (3.0.39)\n",
            "Requirement already satisfied: pygments in /usr/local/lib/python3.10/dist-packages (from ipython>=7.31.1->ipdb) (2.16.1)\n",
            "Requirement already satisfied: backcall in /usr/local/lib/python3.10/dist-packages (from ipython>=7.31.1->ipdb) (0.2.0)\n",
            "Requirement already satisfied: matplotlib-inline in /usr/local/lib/python3.10/dist-packages (from ipython>=7.31.1->ipdb) (0.1.6)\n",
            "Requirement already satisfied: pexpect>4.3 in /usr/local/lib/python3.10/dist-packages (from ipython>=7.31.1->ipdb) (4.8.0)\n",
            "Requirement already satisfied: six>=1.5 in /usr/local/lib/python3.10/dist-packages (from python-dateutil>=2.7->matplotlib) (1.16.0)\n",
            "Requirement already satisfied: filelock in /usr/local/lib/python3.10/dist-packages (from torch>=1.9.0->open_clip_torch) (3.12.2)\n",
            "Requirement already satisfied: typing-extensions in /usr/local/lib/python3.10/dist-packages (from torch>=1.9.0->open_clip_torch) (4.5.0)\n",
            "Requirement already satisfied: sympy in /usr/local/lib/python3.10/dist-packages (from torch>=1.9.0->open_clip_torch) (1.12)\n",
            "Requirement already satisfied: networkx in /usr/local/lib/python3.10/dist-packages (from torch>=1.9.0->open_clip_torch) (3.1)\n",
            "Requirement already satisfied: jinja2 in /usr/local/lib/python3.10/dist-packages (from torch>=1.9.0->open_clip_torch) (3.1.2)\n",
            "Requirement already satisfied: triton==2.0.0 in /usr/local/lib/python3.10/dist-packages (from torch>=1.9.0->open_clip_torch) (2.0.0)\n",
            "Requirement already satisfied: cmake in /usr/local/lib/python3.10/dist-packages (from triton==2.0.0->torch>=1.9.0->open_clip_torch) (3.27.4.1)\n",
            "Requirement already satisfied: lit in /usr/local/lib/python3.10/dist-packages (from triton==2.0.0->torch>=1.9.0->open_clip_torch) (16.0.6)\n",
            "Requirement already satisfied: wcwidth>=0.2.5 in /usr/local/lib/python3.10/dist-packages (from ftfy->open_clip_torch) (0.2.6)\n",
            "Requirement already satisfied: fsspec in /usr/local/lib/python3.10/dist-packages (from huggingface-hub->open_clip_torch) (2023.6.0)\n",
            "Requirement already satisfied: requests in /usr/local/lib/python3.10/dist-packages (from huggingface-hub->open_clip_torch) (2.31.0)\n",
            "Requirement already satisfied: pyyaml>=5.1 in /usr/local/lib/python3.10/dist-packages (from huggingface-hub->open_clip_torch) (6.0.1)\n",
            "Collecting safetensors (from timm->open_clip_torch)\n",
            "  Downloading safetensors-0.3.3-cp310-cp310-manylinux_2_17_x86_64.manylinux2014_x86_64.whl (1.3 MB)\n",
            "\u001b[2K     \u001b[90m━━━━━━━━━━━━━━━━━━━━━━━━━━━━━━━━━━━━━━━━\u001b[0m \u001b[32m1.3/1.3 MB\u001b[0m \u001b[31m83.1 MB/s\u001b[0m eta \u001b[36m0:00:00\u001b[0m\n",
            "\u001b[?25hRequirement already satisfied: parso<0.9.0,>=0.8.3 in /usr/local/lib/python3.10/dist-packages (from jedi>=0.16->ipython>=7.31.1->ipdb) (0.8.3)\n",
            "Requirement already satisfied: ptyprocess>=0.5 in /usr/local/lib/python3.10/dist-packages (from pexpect>4.3->ipython>=7.31.1->ipdb) (0.7.0)\n",
            "Requirement already satisfied: MarkupSafe>=2.0 in /usr/local/lib/python3.10/dist-packages (from jinja2->torch>=1.9.0->open_clip_torch) (2.1.3)\n",
            "Requirement already satisfied: charset-normalizer<4,>=2 in /usr/local/lib/python3.10/dist-packages (from requests->huggingface-hub->open_clip_torch) (3.2.0)\n",
            "Requirement already satisfied: idna<4,>=2.5 in /usr/local/lib/python3.10/dist-packages (from requests->huggingface-hub->open_clip_torch) (3.4)\n",
            "Requirement already satisfied: urllib3<3,>=1.21.1 in /usr/local/lib/python3.10/dist-packages (from requests->huggingface-hub->open_clip_torch) (2.0.4)\n",
            "Requirement already satisfied: certifi>=2017.4.17 in /usr/local/lib/python3.10/dist-packages (from requests->huggingface-hub->open_clip_torch) (2023.7.22)\n",
            "Requirement already satisfied: mpmath>=0.19 in /usr/local/lib/python3.10/dist-packages (from sympy->torch>=1.9.0->open_clip_torch) (1.3.0)\n",
            "Installing collected packages: sentencepiece, safetensors, jedi, ftfy, ipdb, timm, open_clip_torch, diffsort\n",
            "Successfully installed diffsort-0.2.0 ftfy-6.1.1 ipdb-0.13.13 jedi-0.19.0 open_clip_torch-2.20.0 safetensors-0.3.3 sentencepiece-0.1.99 timm-0.9.7\n"
          ]
        }
      ]
    },
    {
      "cell_type": "code",
      "source": [
        "import torch\n",
        "import torch.nn as nn\n",
        "import torch.nn.functional as F\n",
        "from torch.optim import Adam\n",
        "import torchvision.transforms as T\n",
        "import numpy as np\n",
        "from PIL import Image\n",
        "import matplotlib.pyplot as plt\n",
        "from tqdm import tqdm\n",
        "from bendable_gan import BendedGenerator\n",
        "from bending_modules import BendingConvModule, BendingConvModule_XY, \\\n",
        "    BendingCPPN, BendingDiffSort, BendingDiffSort_XY, ConcatenatedModules\n",
        "from losses import compute_diversity_loss\n",
        "from utils import generate_image, image_grid, generate_image_from_seed\n",
        "from clip import TextPrompt, NCELoss\n",
        "import gc\n",
        "\n",
        "%load_ext autoreload\n",
        "%autoreload 2\n",
        "\n",
        "device = 'cuda'"
      ],
      "metadata": {
        "colab": {
          "base_uri": "https://localhost:8080/"
        },
        "id": "KEsMiCcXZJS7",
        "outputId": "2dd60094-5eda-4e5d-b9be-490cf49e634f"
      },
      "execution_count": null,
      "outputs": [
        {
          "output_type": "stream",
          "name": "stderr",
          "text": [
            "/usr/local/lib/python3.10/dist-packages/kornia/augmentation/augmentation.py:1830: DeprecationWarning: GaussianBlur is no longer maintained and will be removed from the future versions. Please use RandomGaussianBlur instead.\n",
            "  warnings.warn(\n",
            "/usr/local/lib/python3.10/dist-packages/timm/models/layers/__init__.py:49: DeprecationWarning: Importing from timm.models.layers is deprecated, please import via timm.layers\n",
            "  warnings.warn(f\"Importing from {__name__} is deprecated, please import via timm.layers\", DeprecationWarning)\n"
          ]
        }
      ]
    },
    {
      "cell_type": "code",
      "execution_count": null,
      "metadata": {
        "id": "TVm1s5ljZG6q",
        "colab": {
          "base_uri": "https://localhost:8080/"
        },
        "outputId": "22849037-be0e-4d30-c61a-f67ce22800a4"
      },
      "outputs": [
        {
          "output_type": "stream",
          "name": "stderr",
          "text": [
            "/usr/local/lib/python3.10/dist-packages/ipykernel/ipkernel.py:283: DeprecationWarning: `should_run_async` will not call `transform_cell` automatically in the future. Please pass the result to `transformed_cell` argument and any exception that happen during thetransform in `preprocessing_exc_tuple` in IPython 7.17 and above.\n",
            "  and should_run_async(code)\n"
          ]
        }
      ],
      "source": [
        "seeds = [i for i in range(16)]"
      ]
    },
    {
      "cell_type": "code",
      "execution_count": null,
      "metadata": {
        "colab": {
          "base_uri": "https://localhost:8080/",
          "height": 105,
          "referenced_widgets": [
            "5bfe37166357469988ac9fde8180b329",
            "0166963a5ced4f749d023f1849c6b983",
            "79d1e60f34d944ebacc4c1a091c7149e",
            "5cf44210407a4a99a03a2dd469e24a75",
            "d0c4563a375645308d96d04f3ea96380",
            "90e45f83f8ae416cb21aa27a49c1e06f",
            "0c303edd1d744d3885be5a8dc5fd9f70",
            "15e19e0aa6af42dea14e2624743d304b",
            "f12f62d42c9e4c8483a1d44875f8aeab",
            "c76df8debd67456e98f14ae8fecfc4d9",
            "5d2c5ffbbc8d49bc80e140b88634bc41"
          ]
        },
        "id": "Irm8dd0PZG6s",
        "outputId": "92074819-1b0d-4270-9e0f-01fe5e5b9434"
      },
      "outputs": [
        {
          "output_type": "stream",
          "name": "stderr",
          "text": [
            "/usr/local/lib/python3.10/dist-packages/ipykernel/ipkernel.py:283: DeprecationWarning: `should_run_async` will not call `transform_cell` automatically in the future. Please pass the result to `transformed_cell` argument and any exception that happen during thetransform in `preprocessing_exc_tuple` in IPython 7.17 and above.\n",
            "  and should_run_async(code)\n"
          ]
        },
        {
          "output_type": "display_data",
          "data": {
            "text/plain": [
              "Downloading model.pt:   0%|          | 0.00/155M [00:00<?, ?B/s]"
            ],
            "application/vnd.jupyter.widget-view+json": {
              "version_major": 2,
              "version_minor": 0,
              "model_id": "5bfe37166357469988ac9fde8180b329"
            }
          },
          "metadata": {}
        }
      ],
      "source": [
        "vanillagen = BendedGenerator.from_pretrained(\"ceyda/butterfly_cropped_uniq1K_512\")"
      ]
    },
    {
      "cell_type": "code",
      "execution_count": null,
      "metadata": {
        "colab": {
          "base_uri": "https://localhost:8080/"
        },
        "id": "9yk52UWDZG6t",
        "outputId": "b557d200-d53a-4386-eea0-19bfe9e721d5"
      },
      "outputs": [
        {
          "output_type": "stream",
          "name": "stderr",
          "text": [
            "/usr/local/lib/python3.10/dist-packages/ipykernel/ipkernel.py:283: DeprecationWarning: `should_run_async` will not call `transform_cell` automatically in the future. Please pass the result to `transformed_cell` argument and any exception that happen during thetransform in `preprocessing_exc_tuple` in IPython 7.17 and above.\n",
            "  and should_run_async(code)\n"
          ]
        }
      ],
      "source": [
        "exampleimgs = [generate_image(vanillagen) for i in range(16)]\n",
        "# for i, img in enumerate(exampleimgs):\n",
        "#     img.save(f\"butterfly_vanilla_{seeds[i]}.pdf\")"
      ]
    },
    {
      "cell_type": "code",
      "execution_count": null,
      "metadata": {
        "colab": {
          "base_uri": "https://localhost:8080/",
          "height": 1000
        },
        "id": "aVds1lw9ZG6u",
        "outputId": "7d742959-9ef9-475a-ea44-468293497ff0"
      },
      "outputs": [],
      "source": [
        "image_grid(exampleimgs, 4, 4)"
      ]
    },
    {
      "cell_type": "markdown",
      "metadata": {
        "id": "mWJ5hxkIZG6v"
      },
      "source": [
        "## CLIP Loss (+ diversity losses)"
      ]
    },
    {
      "cell_type": "code",
      "execution_count": null,
      "metadata": {
        "colab": {
          "base_uri": "https://localhost:8080/"
        },
        "id": "FWtsar0YZG6y",
        "outputId": "08be6544-f310-465d-9730-b6d3765a3821"
      },
      "outputs": [
        {
          "output_type": "stream",
          "name": "stderr",
          "text": [
            "/usr/local/lib/python3.10/dist-packages/ipykernel/ipkernel.py:283: DeprecationWarning: `should_run_async` will not call `transform_cell` automatically in the future. Please pass the result to `transformed_cell` argument and any exception that happen during thetransform in `preprocessing_exc_tuple` in IPython 7.17 and above.\n",
            "  and should_run_async(code)\n"
          ]
        }
      ],
      "source": [
        "# Create new bending module to optimize\n",
        "# with CLIP loss\n",
        "\n",
        "numchans = [1024, 1024, 512, 256, 128, 64, 6]\n",
        "\n",
        "bending_idx = 5\n",
        "\n",
        "bendingmod_clip = BendingConvModule(numchans[bending_idx],\n",
        "                                    act_fn='sin')\n",
        "\n",
        "bend_generator_clip = BendedGenerator.from_pretrained(\"ceyda/butterfly_cropped_uniq1K_512\",\n",
        "                                                 bending_module=bendingmod_clip,\n",
        "                                                 bending_idx=bending_idx,\n",
        "                                                 train_bending=True)\n",
        "bend_generator_clip = bend_generator_clip.to(device)\n",
        "\n",
        "\n",
        "tgt_text = 'A fire burning in a sunflowers field'\n",
        "# tgt_text = 'A large orange cat lying on the grass'\n",
        "# tgt_text = 'A white whale swimming in the ocean, view from above'\n",
        "text_prompt = TextPrompt(tgt_text, device=device)\n",
        "nce_loss = NCELoss(tgt_text, device=device, temperature=0.01)"
      ]
    },
    {
      "cell_type": "code",
      "execution_count": null,
      "metadata": {
        "colab": {
          "base_uri": "https://localhost:8080/",
          "height": 521
        },
        "id": "wz3zHqMgZG60",
        "outputId": "594877ab-2b49-4800-cfb3-e53564b831f5"
      },
      "outputs": [
        {
          "output_type": "stream",
          "name": "stderr",
          "text": [
            "/usr/local/lib/python3.10/dist-packages/ipykernel/ipkernel.py:283: DeprecationWarning: `should_run_async` will not call `transform_cell` automatically in the future. Please pass the result to `transformed_cell` argument and any exception that happen during thetransform in `preprocessing_exc_tuple` in IPython 7.17 and above.\n",
            "  and should_run_async(code)\n",
            "100%|██████████| 1000/1000 [12:33<00:00,  1.33it/s]\n"
          ]
        },
        {
          "output_type": "execute_result",
          "data": {
            "text/plain": [
              "[<matplotlib.lines.Line2D at 0x786451028a90>]"
            ]
          },
          "metadata": {},
          "execution_count": 27
        },
        {
          "output_type": "display_data",
          "data": {
            "text/plain": [
              "<Figure size 640x480 with 1 Axes>"
            ],
            "image/png": "[encoded data removed]"
          },
          "metadata": {}
        }
      ],
      "source": [
        "torch.cuda.empty_cache()\n",
        "\n",
        "import random\n",
        "random.seed(23456)\n",
        "np.random.seed(54321)\n",
        "torch.manual_seed(12345)\n",
        "\n",
        "batch_size = 32\n",
        "\n",
        "n_iter = 1000\n",
        "\n",
        "div_loss = False\n",
        "div_weight = 6.\n",
        "div_loss_clip = True\n",
        "div_clip_weight = 6.\n",
        "\n",
        "opt = Adam(bendingmod_clip.parameters(), 1e-3)\n",
        "\n",
        "loss_log = []\n",
        "\n",
        "for i in tqdm(range(n_iter)):\n",
        "\n",
        "    noise_input = torch.randn(batch_size,\n",
        "                    bend_generator_clip.latent_dim,\n",
        "                    device=device)\n",
        "\n",
        "    out, b_in, _ = bend_generator_clip(noise_input, return_inout=True)\n",
        "    out = out.clamp_(0., 1.)\n",
        "\n",
        "    if div_loss_clip:\n",
        "        loss, clip_div = text_prompt(out, diversity=True)\n",
        "        loss += div_clip_weight * clip_div\n",
        "    else:\n",
        "        loss = nce_loss(out) #text_prompt(out)\n",
        "    if div_loss:\n",
        "        loss += div_weight * compute_diversity_loss(out, b_in)\n",
        "\n",
        "    loss_log.append(loss.detach().cpu().numpy())\n",
        "\n",
        "    with torch.no_grad():\n",
        "        loss.backward()\n",
        "        opt.step()\n",
        "        opt.zero_grad()\n",
        "\n",
        "\n",
        "plt.plot(range(n_iter), loss_log)"
      ]
    },
    {
      "cell_type": "code",
      "execution_count": null,
      "metadata": {
        "colab": {
          "base_uri": "https://localhost:8080/",
          "height": 1000
        },
        "id": "sMLw7r8vZG61",
        "outputId": "1aebd0df-266a-4bc0-9026-e3050f2b3d7d"
      },
      "outputs": [],
      "source": [
        "exampleimgs = [generate_image_from_seed(bend_generator_clip, seed=seeds[i]) for i in range(16)]\n",
        "\n",
        "ts = tgt_text.replace(\" \", \"_\")\n",
        "for i, img in enumerate(exampleimgs):\n",
        "    img.save(f\"res/butterfly_clip_2_{ts}_bendindex_{bending_idx}_{i}_t_0.01.pdf\")\n",
        "\n",
        "image_grid(exampleimgs, 4, 4)"
      ]
    },
    {
      "cell_type": "code",
      "source": [
        "grid = image_grid(exampleimgs, 4, 4)\n",
        "grid.save(f\"res/butterfly_clip_all_2_{ts}_bendindex_{bending_idx}_{i}_t_0.01.jpg\", quality=95)\n",
        "grid.save(f\"res/butterfly_clip_all_2_{ts}_bendindex_{bending_idx}_{i}_t_0.01.pdf\", quality=95)"
      ],
      "metadata": {
        "colab": {
          "base_uri": "https://localhost:8080/"
        },
        "id": "X5OShPhjja8Y",
        "outputId": "19496201-8f2b-419d-d256-96a5810bec18"
      },
      "execution_count": null,
      "outputs": [
        {
          "output_type": "stream",
          "name": "stderr",
          "text": [
            "/usr/local/lib/python3.10/dist-packages/ipykernel/ipkernel.py:283: DeprecationWarning: `should_run_async` will not call `transform_cell` automatically in the future. Please pass the result to `transformed_cell` argument and any exception that happen during thetransform in `preprocessing_exc_tuple` in IPython 7.17 and above.\n",
            "  and should_run_async(code)\n"
          ]
        }
      ]
    },
    {
      "cell_type": "code",
      "execution_count": null,
      "metadata": {
        "id": "v9rFDuHEZG62"
      },
      "outputs": [],
      "source": [
        "exampleimgs = [generate_image_from_seed(bend_generator_clip, seed=seeds[i]) for i in range(16)]\n",
        "\n",
        "ts = tgt_text.replace(\" \", \"_\")\n",
        "for i, img in enumerate(exampleimgs):\n",
        "    img.save(f\"butterfly_clip_{ts}_bendindex_{bending_idx}_{seeds[i]}.pdf\")\n",
        "image_grid(exampleimgs, 4, 4)"
      ]
    },
    {
      "cell_type": "code",
      "execution_count": null,
      "metadata": {
        "id": "JhiShL6NZG63"
      },
      "outputs": [],
      "source": [
        "exampleimgs = [generate_image_from_seed(bend_generator_clip, seed=seeds[i]) for i in range(16)]\n",
        "\n",
        "ts = tgt_text.replace(\" \", \"_\")\n",
        "for i, img in enumerate(exampleimgs):\n",
        "    img.save(f\"butterfly_clip_{ts}_bendindex_{bending_idx}_{seeds[i]}.pdf\")\n",
        "image_grid(exampleimgs, 4, 4)"
      ]
    },
    {
      "cell_type": "code",
      "execution_count": null,
      "metadata": {
        "id": "srDD9qcZZG63"
      },
      "outputs": [],
      "source": [
        "exampleimgs = [generate_image_from_seed(bend_generator_clip, seed=seeds[i]) for i in range(16)]\n",
        "\n",
        "ts = tgt_text.replace(\" \", \"_\")\n",
        "for i, img in enumerate(exampleimgs):\n",
        "    img.save(f\"butterfly_clip_{ts}_bendindex_{bending_idx}_{seeds[i]}.pdf\")\n",
        "image_grid(exampleimgs, 4, 4)"
      ]
    },
    {
      "cell_type": "code",
      "execution_count": null,
      "metadata": {
        "id": "DldRpD71ZG64"
      },
      "outputs": [],
      "source": [
        "exampleimgs = [generate_image_from_seed(bend_generator_clip, seed=seeds[i]) for i in range(16)]\n",
        "image_grid(exampleimgs, 4, 4)"
      ]
    },
    {
      "cell_type": "code",
      "execution_count": null,
      "metadata": {
        "id": "O1DdBV6cZG64",
        "colab": {
          "base_uri": "https://localhost:8080/"
        },
        "outputId": "0ee980ea-fceb-48b1-cb08-1a9ce8adc320"
      },
      "outputs": [
        {
          "output_type": "stream",
          "name": "stderr",
          "text": [
            "/usr/local/lib/python3.10/dist-packages/ipykernel/ipkernel.py:283: DeprecationWarning: `should_run_async` will not call `transform_cell` automatically in the future. Please pass the result to `transformed_cell` argument and any exception that happen during thetransform in `preprocessing_exc_tuple` in IPython 7.17 and above.\n",
            "  and should_run_async(code)\n"
          ]
        }
      ],
      "source": [
        "del bendingmod_clip, bend_generator_clip, text_prompt, nce_loss, noise_input#, b_in, b_out\n",
        "\n",
        "gc.collect()\n",
        "torch.cuda.empty_cache()"
      ]
    },
    {
      "cell_type": "markdown",
      "metadata": {
        "id": "ZGk_6FejZG65"
      },
      "source": [
        "## Convolutional with coordinates"
      ]
    },
    {
      "cell_type": "code",
      "execution_count": null,
      "metadata": {
        "id": "6AOT6g-OZG65",
        "colab": {
          "base_uri": "https://localhost:8080/"
        },
        "outputId": "a6bb3624-648c-4729-aff3-8c9fa458d399"
      },
      "outputs": [
        {
          "output_type": "stream",
          "name": "stderr",
          "text": [
            "/usr/local/lib/python3.10/dist-packages/ipykernel/ipkernel.py:283: DeprecationWarning: `should_run_async` will not call `transform_cell` automatically in the future. Please pass the result to `transformed_cell` argument and any exception that happen during thetransform in `preprocessing_exc_tuple` in IPython 7.17 and above.\n",
            "  and should_run_async(code)\n"
          ]
        }
      ],
      "source": [
        "# Create new bending module to optimize\n",
        "# with CLIP loss\n",
        "\n",
        "device = 'cuda'\n",
        "numchans = [1024, 1024, 512, 256, 128, 64, 6]\n",
        "inputsizes = [8, 16, 32, 64, 128, 256, 512]\n",
        "\n",
        "bending_idx = 5\n",
        "\n",
        "bendingmod_clip = BendingConvModule_XY(numchans[bending_idx],\n",
        "                                       inputsizes[bending_idx])\n",
        "\n",
        "bend_generator_clip = BendedGenerator.from_pretrained(\"ceyda/butterfly_cropped_uniq1K_512\",\n",
        "                                                 bending_module=bendingmod_clip,\n",
        "                                                 bending_idx=bending_idx,\n",
        "                                                 train_bending=True)\n",
        "bend_generator_clip = bend_generator_clip.to(device)\n",
        "\n",
        "tgt_text = 'A fire burning in a sunflowers field'\n",
        "#text_prompt = TextPrompt(tgt_text, device=device)\n",
        "nce_loss = NCELoss(tgt_text, temperature=0.01, device=device)"
      ]
    },
    {
      "cell_type": "code",
      "execution_count": null,
      "metadata": {
        "id": "I-mmkftgZG65",
        "colab": {
          "base_uri": "https://localhost:8080/",
          "height": 521
        },
        "outputId": "a6138d6f-6e6b-4e18-a581-1666c95c5cee"
      },
      "outputs": [
        {
          "output_type": "stream",
          "name": "stderr",
          "text": [
            "/usr/local/lib/python3.10/dist-packages/ipykernel/ipkernel.py:283: DeprecationWarning: `should_run_async` will not call `transform_cell` automatically in the future. Please pass the result to `transformed_cell` argument and any exception that happen during thetransform in `preprocessing_exc_tuple` in IPython 7.17 and above.\n",
            "  and should_run_async(code)\n",
            "100%|██████████| 2000/2000 [27:26<00:00,  1.21it/s]\n"
          ]
        },
        {
          "output_type": "execute_result",
          "data": {
            "text/plain": [
              "[<matplotlib.lines.Line2D at 0x7cee4d0ea8f0>]"
            ]
          },
          "metadata": {},
          "execution_count": 25
        },
        {
          "output_type": "display_data",
          "data": {
            "text/plain": [
              "<Figure size 640x480 with 1 Axes>"
            ],
            "image/png": "[encoded data removed]"
          },
          "metadata": {}
        }
      ],
      "source": [
        "torch.cuda.empty_cache()\n",
        "\n",
        "torch.manual_seed(12345)\n",
        "\n",
        "batch_size = 32\n",
        "\n",
        "n_iter = 2000\n",
        "\n",
        "opt = Adam(bendingmod_clip.parameters(), 1e-3)\n",
        "\n",
        "loss_log = []\n",
        "\n",
        "for i in tqdm(range(n_iter)):\n",
        "\n",
        "    noise_input = torch.randn(batch_size,\n",
        "                    bend_generator_clip.latent_dim,\n",
        "                    device=device)\n",
        "\n",
        "    out = bend_generator_clip(noise_input)\n",
        "    out = out.clamp_(0., 1.)\n",
        "\n",
        "\n",
        "    loss = nce_loss(out)\n",
        "    loss_log.append(loss.detach().cpu().numpy())\n",
        "\n",
        "    with torch.no_grad():\n",
        "        loss.backward()\n",
        "        opt.step()\n",
        "        opt.zero_grad()\n",
        "\n",
        "\n",
        "plt.plot(range(n_iter), loss_log)"
      ]
    },
    {
      "cell_type": "code",
      "execution_count": null,
      "metadata": {
        "id": "Vsc7WbIQZG66",
        "colab": {
          "base_uri": "https://localhost:8080/",
          "height": 1000
        },
        "outputId": "d7eb147e-fe31-4c31-88bc-d1fc3dc06b2c"
      },
      "outputs": [],
      "source": [
        "exampleimgs = [generate_image_from_seed(bend_generator_clip, seed=seeds[i]) for i in range(16)]\n",
        "\n",
        "ts = tgt_text.replace(\" \", \"_\")\n",
        "for i, img in enumerate(exampleimgs):\n",
        "    img.save(f\"results_seed/butterfly_XY_{ts}_bendindex_{bending_idx}_{i}.pdf\")\n",
        "\n",
        "image_grid(exampleimgs, 4, 4)"
      ]
    },
    {
      "cell_type": "code",
      "source": [
        "grid = image_grid(exampleimgs, 4, 4)\n",
        "grid.save(f\"results_seed/butterfly_XY_all_{ts}_bendindex_{bending_idx}_{i}.jpg\", quality=95)\n",
        "# grid.save(f\"results_seed/butterfly_clip_{ts}_bendindex_{bending_idx}_{i}.pdf\", quality=95)"
      ],
      "metadata": {
        "colab": {
          "base_uri": "https://localhost:8080/"
        },
        "id": "4FxIAZzDhOgX",
        "outputId": "492ed8d3-c218-478a-d76e-69f164c3c848"
      },
      "execution_count": null,
      "outputs": [
        {
          "output_type": "stream",
          "name": "stderr",
          "text": [
            "/usr/local/lib/python3.10/dist-packages/ipykernel/ipkernel.py:283: DeprecationWarning: `should_run_async` will not call `transform_cell` automatically in the future. Please pass the result to `transformed_cell` argument and any exception that happen during thetransform in `preprocessing_exc_tuple` in IPython 7.17 and above.\n",
            "  and should_run_async(code)\n"
          ]
        }
      ]
    },
    {
      "cell_type": "code",
      "execution_count": null,
      "metadata": {
        "id": "39kCoEvbZG66"
      },
      "outputs": [],
      "source": [
        "del bendingmod_clip, bend_generator_clip, nce_loss, noise_input#, b_in, b_out\n",
        "import gc\n",
        "gc.collect()\n",
        "torch.cuda.empty_cache()"
      ]
    },
    {
      "cell_type": "markdown",
      "metadata": {
        "id": "3brJTrGFZG66"
      },
      "source": [
        "## Differentiable sorting"
      ]
    },
    {
      "cell_type": "code",
      "execution_count": null,
      "metadata": {
        "id": "zJcvmrkCZG67"
      },
      "outputs": [],
      "source": [
        "# Create new bending module to optimize\n",
        "# with CLIP loss\n",
        "\n",
        "numchans = [1024, 1024, 512, 256, 128, 64, 6]\n",
        "inputsizes = [8, 16, 32, 64, 128, 256, 512]\n",
        "\n",
        "bending_idx = 3\n",
        "\n",
        "bendingmod_clip = BendingConvModule(numchans[bending_idx],\n",
        "                                    act_fn='relu')\n",
        "bendsorting_clip = BendingDiffSort_XY(numchans[bending_idx],\n",
        "                                   inputsizes[bending_idx],\n",
        "                                   perm_rows=True, perm_cols=False)\n",
        "combined_bendmodule = ConcatenatedModules([bendsorting_clip, bendingmod_clip])"
      ]
    },
    {
      "cell_type": "code",
      "execution_count": null,
      "metadata": {
        "id": "sRPgKVEwZG67"
      },
      "outputs": [],
      "source": [
        "bend_generator_sort = BendedGenerator.from_pretrained(\"ceyda/butterfly_cropped_uniq1K_512\",\n",
        "                                                 bending_module=combined_bendmodule,\n",
        "                                                 bending_idx=bending_idx,\n",
        "                                                 train_bending=True)\n",
        "bend_generator_sort = bend_generator_sort.to(device)\n",
        "\n",
        "tgt_text = 'A fire burning in a sunflowers field'\n",
        "text_prompt = TextPrompt(tgt_text, device=device)\n",
        "nce_loss = NCELoss(tgt_text, device=device, temperature=0.01)"
      ]
    },
    {
      "cell_type": "code",
      "execution_count": null,
      "metadata": {
        "id": "28qSQFk2ZG67"
      },
      "outputs": [],
      "source": [
        "torch.cuda.empty_cache()\n",
        "\n",
        "import random\n",
        "random.seed(23456)\n",
        "np.random.seed(54321)\n",
        "torch.manual_seed(12345)\n",
        "#torch.use_deterministic_algorithms(True, warn_only=True)\n",
        "\n",
        "batch_size = 16\n",
        "\n",
        "n_iter = 1000\n",
        "\n",
        "div_loss = False\n",
        "div_weight = 6.\n",
        "div_loss_clip = False\n",
        "div_clip_weight = 6.\n",
        "\n",
        "opt = Adam(combined_bendmodule.parameters(), 1e-4)\n",
        "\n",
        "loss_log = []\n",
        "\n",
        "for i in tqdm(range(n_iter)):\n",
        "\n",
        "    noise_input = torch.randn(batch_size,\n",
        "                    bend_generator_sort.latent_dim,\n",
        "                    device=device)\n",
        "\n",
        "    out, b_in, _ = bend_generator_sort(noise_input, return_inout=True)\n",
        "    out = out.clamp_(0., 1.)\n",
        "\n",
        "    if div_loss_clip:\n",
        "        loss, clip_div = text_prompt(out, diversity=True)\n",
        "        loss += div_clip_weight * clip_div\n",
        "    else:\n",
        "        loss = nce_loss(out) #text_prompt(out)\n",
        "    if div_loss:\n",
        "        loss += div_weight * compute_diversity_loss(out, b_in)\n",
        "\n",
        "    loss_log.append(loss.detach().cpu().numpy())\n",
        "\n",
        "    with torch.no_grad():\n",
        "        loss.backward()\n",
        "        opt.step()\n",
        "        opt.zero_grad()\n",
        "\n",
        "\n",
        "plt.plot(range(n_iter), loss_log)"
      ]
    },
    {
      "cell_type": "code",
      "execution_count": null,
      "metadata": {
        "id": "XKyYDXLMZG68"
      },
      "outputs": [],
      "source": [
        "exampleimgs = [generate_image_from_seed(bend_generator_sort, seed=seeds[i]) for i in range(16)]\n",
        "image_grid(exampleimgs, 4, 4)\n",
        "ts = tgt_text.replace(\" \", \"_\")\n",
        "for i, img in enumerate(exampleimgs):\n",
        "    img.save(f\"butterfly_diffsort_clip_{ts}_bendindex_{bending_idx}_{seeds[i]}.pdf\")\n",
        "image_grid(exampleimgs, 4, 4)"
      ]
    },
    {
      "cell_type": "code",
      "execution_count": null,
      "metadata": {
        "id": "8HBE9MHGZG68"
      },
      "outputs": [],
      "source": [
        "exampleimgs = [generate_image_from_seed(bend_generator_sort, seed=seeds[i]) for i in range(16)]\n",
        "image_grid(exampleimgs, 4, 4)\n",
        "for i, img in enumerate(exampleimgs):\n",
        "    img.save(f\"butterfly_diffsort_clip_{ts}_bendindex_{bending_idx}_{seeds[i]}.pdf\")\n",
        "image_grid(exampleimgs, 4, 4)"
      ]
    },
    {
      "cell_type": "code",
      "execution_count": null,
      "metadata": {
        "id": "qTDL4dwhZG68"
      },
      "outputs": [],
      "source": [
        "exampleimgs = [generate_image_from_seed(bend_generator_sort, seed=seeds[i]) for i in range(16)]\n",
        "image_grid(exampleimgs, 4, 4)\n",
        "for i, img in enumerate(exampleimgs):\n",
        "    img.save(f\"butterfly_diffsort_clip_{ts}_bendindex_{bending_idx}_{seeds[i]}.pdf\")\n",
        "image_grid(exampleimgs, 4, 4)"
      ]
    },
    {
      "cell_type": "code",
      "execution_count": null,
      "metadata": {
        "id": "wEqtjCrnZG69"
      },
      "outputs": [],
      "source": [
        "exampleimgs = [generate_image_from_seed(bend_generator_sort, seed=seeds[i]) for i in range(16)]\n",
        "image_grid(exampleimgs, 4, 4)"
      ]
    },
    {
      "cell_type": "code",
      "execution_count": null,
      "metadata": {
        "id": "_B9ltpXcZG69"
      },
      "outputs": [],
      "source": [
        "exampleimgs = [generate_image_from_seed(bend_generator_sort, seed=seeds[i]) for i in range(16)]\n",
        "image_grid(exampleimgs, 4, 4)"
      ]
    },
    {
      "cell_type": "code",
      "execution_count": null,
      "metadata": {
        "id": "hEN4MbiJZG69"
      },
      "outputs": [],
      "source": [
        "exampleimgs = [generate_image_from_seed(bend_generator_sort, seed=seeds[i]) for i in range(16)]\n",
        "image_grid(exampleimgs, 4, 4)"
      ]
    },
    {
      "cell_type": "code",
      "execution_count": null,
      "metadata": {
        "id": "ymUyupmQZG69"
      },
      "outputs": [],
      "source": [
        "del combined_bendmodule, bend_generator_sort, text_prompt, nce_loss, noise_input#, b_in, b_out\n",
        "import gc\n",
        "gc.collect()\n",
        "torch.cuda.empty_cache()"
      ]
    },
    {
      "cell_type": "code",
      "execution_count": null,
      "metadata": {
        "id": "ZD02ryJ5ZG69"
      },
      "outputs": [],
      "source": []
    },
    {
      "cell_type": "code",
      "execution_count": null,
      "metadata": {
        "id": "VCEz6jk_ZG6-"
      },
      "outputs": [],
      "source": [
        "exampleimgs = [generate_image(bend_generator_sort) for _ in range(16)]\n",
        "image_grid(exampleimgs, 4, 4)"
      ]
    },
    {
      "cell_type": "code",
      "execution_count": null,
      "metadata": {
        "id": "MTLSrIRWZG6-"
      },
      "outputs": [],
      "source": [
        "exampleimgs = [generate_image(bend_generator_sort) for _ in range(16)]\n",
        "image_grid(exampleimgs, 4, 4)"
      ]
    },
    {
      "cell_type": "code",
      "execution_count": null,
      "metadata": {
        "id": "v1VlzbLXZG6-"
      },
      "outputs": [],
      "source": [
        "exampleimgs = [generate_image(bend_generator_sort) for _ in range(16)]\n",
        "image_grid(exampleimgs, 4, 4)"
      ]
    },
    {
      "cell_type": "code",
      "execution_count": null,
      "metadata": {
        "id": "J4fzwx0gZG6-"
      },
      "outputs": [],
      "source": [
        "exampleimgs = [generate_image(bend_generator_sort) for _ in range(16)]\n",
        "image_grid(exampleimgs, 4, 4)"
      ]
    },
    {
      "cell_type": "code",
      "execution_count": null,
      "metadata": {
        "id": "ZNeyj6lwZG6_"
      },
      "outputs": [],
      "source": [
        "exampleimgs = [generate_image(bend_generator_sort) for _ in range(16)]\n",
        "image_grid(exampleimgs, 4, 4)"
      ]
    },
    {
      "cell_type": "code",
      "execution_count": null,
      "metadata": {
        "id": "sXfbHz_OZG6_"
      },
      "outputs": [],
      "source": [
        "exampleimgs = [generate_image(bend_generator_sort) for _ in range(16)]\n",
        "image_grid(exampleimgs, 4, 4)"
      ]
    },
    {
      "cell_type": "markdown",
      "metadata": {
        "id": "2SW5lv6wZG6_"
      },
      "source": [
        "## Control: does diff. sorting do better than random permutation?"
      ]
    },
    {
      "cell_type": "code",
      "execution_count": null,
      "metadata": {
        "id": "d3FomNtOZG6_"
      },
      "outputs": [],
      "source": [
        "# Create new bending module to optimize\n",
        "# with CLIP loss\n",
        "\n",
        "numchans = [1024, 1024, 512, 256, 128, 64, 6]\n",
        "inputsizes = [8, 16, 32, 64, 128, 256, 512]\n",
        "\n",
        "bending_idx = 1\n",
        "\n",
        "bendingmod_clip = BendingConvModule(numchans[bending_idx],\n",
        "                                    act_fn='relu')\n",
        "perm_h = torch.randperm(inputsizes[bending_idx])"
      ]
    },
    {
      "cell_type": "code",
      "execution_count": null,
      "metadata": {
        "id": "ptJauILlZG7N"
      },
      "outputs": [],
      "source": [
        "perm_h"
      ]
    },
    {
      "cell_type": "code",
      "execution_count": null,
      "metadata": {
        "id": "bCZ6XNDXZG7O"
      },
      "outputs": [],
      "source": [
        "bend_generator_sort = BendedGenerator.from_pretrained(\"ceyda/butterfly_cropped_uniq1K_512\",\n",
        "                                                 bending_module=bendingmod_clip,\n",
        "                                                 bending_idx=bending_idx,\n",
        "                                                 train_bending=True)\n",
        "bend_generator_sort = bend_generator_sort.to(device)\n",
        "\n",
        "tgt_text = 'Peaches in a greek temple, 8-bit art'\n",
        "text_prompt = TextPrompt(tgt_text, device=device)\n",
        "nce_loss = NCELoss(tgt_text, device=device, temperature=0.1)"
      ]
    },
    {
      "cell_type": "code",
      "execution_count": null,
      "metadata": {
        "id": "UzFBaIl5ZG7O"
      },
      "outputs": [],
      "source": [
        "torch.cuda.empty_cache()\n",
        "\n",
        "batch_size = 16\n",
        "\n",
        "n_iter = 1000\n",
        "\n",
        "div_loss = False\n",
        "div_weight = 6.\n",
        "div_loss_clip = False\n",
        "div_clip_weight = 6.\n",
        "\n",
        "opt = Adam(bendingmod_clip.parameters(), 1e-4)\n",
        "\n",
        "loss_log = []\n",
        "\n",
        "for i in tqdm(range(n_iter)):\n",
        "\n",
        "    noise_input = torch.randn(batch_size,\n",
        "                    bend_generator_sort.latent_dim,\n",
        "                    device=device)\n",
        "\n",
        "    out = bend_generator_sort(noise_input, perm_h=perm_h)\n",
        "    out = out.clamp_(0., 1.)\n",
        "\n",
        "    if div_loss_clip:\n",
        "        loss, clip_div = text_prompt(out, diversity=True)\n",
        "        loss += div_clip_weight * clip_div\n",
        "    else:\n",
        "        loss = nce_loss(out) #text_prompt(out)\n",
        "\n",
        "    loss_log.append(loss.detach().cpu().numpy())\n",
        "\n",
        "    with torch.no_grad():\n",
        "        loss.backward()\n",
        "        opt.step()\n",
        "        opt.zero_grad()\n",
        "\n",
        "\n",
        "plt.plot(range(n_iter), loss_log)"
      ]
    },
    {
      "cell_type": "code",
      "execution_count": null,
      "metadata": {
        "id": "bACwwt8tZG7O"
      },
      "outputs": [],
      "source": [
        "exampleimgs = [generate_image(bend_generator_sort) for _ in range(16)]\n",
        "image_grid(exampleimgs, 4, 4)"
      ]
    },
    {
      "cell_type": "code",
      "execution_count": null,
      "metadata": {
        "id": "lDJotuHOZG7O"
      },
      "outputs": [],
      "source": [
        "x, y = torch.meshgrid(torch.arange(32),\n",
        "                      torch.arange(32),\n",
        "                      indexing='xy')"
      ]
    },
    {
      "cell_type": "code",
      "execution_count": null,
      "metadata": {
        "id": "njPi3LXBZG7P"
      },
      "outputs": [],
      "source": [
        "plt.matshow(x.numpy())"
      ]
    },
    {
      "cell_type": "code",
      "execution_count": null,
      "metadata": {
        "id": "Tzr11vzwZG7P"
      },
      "outputs": [],
      "source": [
        "plt.matshow(y.numpy())"
      ]
    },
    {
      "cell_type": "code",
      "execution_count": null,
      "metadata": {
        "id": "Akm9EmVSZG7P"
      },
      "outputs": [],
      "source": [
        "sinx = torch.sin(x)"
      ]
    },
    {
      "cell_type": "code",
      "execution_count": null,
      "metadata": {
        "id": "l8pmw74MZG7P"
      },
      "outputs": [],
      "source": [
        "plt.matshow(sinx.numpy())"
      ]
    },
    {
      "cell_type": "code",
      "execution_count": null,
      "metadata": {
        "id": "DoUkU4o5ZG7Q"
      },
      "outputs": [],
      "source": [
        "siny = torch.cos(y)\n",
        "plt.matshow(siny.numpy())"
      ]
    },
    {
      "cell_type": "code",
      "execution_count": null,
      "metadata": {
        "id": "feqERZvqZG7Q"
      },
      "outputs": [],
      "source": []
    }
  ],
  "metadata": {
    "kernelspec": {
      "display_name": "Python 3",
      "name": "python3"
    },
    "language_info": {
      "codemirror_mode": {
        "name": "ipython",
        "version": 3
      },
      "file_extension": ".py",
      "mimetype": "text/x-python",
      "name": "python",
      "nbconvert_exporter": "python",
      "pygments_lexer": "ipython3",
      "version": "3.10.11"
    },
    "vscode": {
      "interpreter": {
        "hash": "3f88c79eab5e25d07d6227213314c9478e4141cdc655f57022914668adb63db5"
      }
    },
    "colab": {
      "provenance": [],
      "gpuType": "T4"
    },
    "accelerator": "GPU",
    "widgets": {
      "application/vnd.jupyter.widget-state+json": {
        "5bfe37166357469988ac9fde8180b329": {
          "model_module": "@jupyter-widgets/controls",
          "model_name": "HBoxModel",
          "model_module_version": "1.5.0",
          "state": {
            "_dom_classes": [],
            "_model_module": "@jupyter-widgets/controls",
            "_model_module_version": "1.5.0",
            "_model_name": "HBoxModel",
            "_view_count": null,
            "_view_module": "@jupyter-widgets/controls",
            "_view_module_version": "1.5.0",
            "_view_name": "HBoxView",
            "box_style": "",
            "children": [
              "IPY_MODEL_0166963a5ced4f749d023f1849c6b983",
              "IPY_MODEL_79d1e60f34d944ebacc4c1a091c7149e",
              "IPY_MODEL_5cf44210407a4a99a03a2dd469e24a75"
            ],
            "layout": "IPY_MODEL_d0c4563a375645308d96d04f3ea96380"
          }
        },
        "0166963a5ced4f749d023f1849c6b983": {
          "model_module": "@jupyter-widgets/controls",
          "model_name": "HTMLModel",
          "model_module_version": "1.5.0",
          "state": {
            "_dom_classes": [],
            "_model_module": "@jupyter-widgets/controls",
            "_model_module_version": "1.5.0",
            "_model_name": "HTMLModel",
            "_view_count": null,
            "_view_module": "@jupyter-widgets/controls",
            "_view_module_version": "1.5.0",
            "_view_name": "HTMLView",
            "description": "",
            "description_tooltip": null,
            "layout": "IPY_MODEL_90e45f83f8ae416cb21aa27a49c1e06f",
            "placeholder": "​",
            "style": "IPY_MODEL_0c303edd1d744d3885be5a8dc5fd9f70",
            "value": "Downloading model.pt: 100%"
          }
        },
        "79d1e60f34d944ebacc4c1a091c7149e": {
          "model_module": "@jupyter-widgets/controls",
          "model_name": "FloatProgressModel",
          "model_module_version": "1.5.0",
          "state": {
            "_dom_classes": [],
            "_model_module": "@jupyter-widgets/controls",
            "_model_module_version": "1.5.0",
            "_model_name": "FloatProgressModel",
            "_view_count": null,
            "_view_module": "@jupyter-widgets/controls",
            "_view_module_version": "1.5.0",
            "_view_name": "ProgressView",
            "bar_style": "success",
            "description": "",
            "description_tooltip": null,
            "layout": "IPY_MODEL_15e19e0aa6af42dea14e2624743d304b",
            "max": 154623695,
            "min": 0,
            "orientation": "horizontal",
            "style": "IPY_MODEL_f12f62d42c9e4c8483a1d44875f8aeab",
            "value": 154623695
          }
        },
        "5cf44210407a4a99a03a2dd469e24a75": {
          "model_module": "@jupyter-widgets/controls",
          "model_name": "HTMLModel",
          "model_module_version": "1.5.0",
          "state": {
            "_dom_classes": [],
            "_model_module": "@jupyter-widgets/controls",
            "_model_module_version": "1.5.0",
            "_model_name": "HTMLModel",
            "_view_count": null,
            "_view_module": "@jupyter-widgets/controls",
            "_view_module_version": "1.5.0",
            "_view_name": "HTMLView",
            "description": "",
            "description_tooltip": null,
            "layout": "IPY_MODEL_c76df8debd67456e98f14ae8fecfc4d9",
            "placeholder": "​",
            "style": "IPY_MODEL_5d2c5ffbbc8d49bc80e140b88634bc41",
            "value": " 155M/155M [00:00&lt;00:00, 205MB/s]"
          }
        },
        "d0c4563a375645308d96d04f3ea96380": {
          "model_module": "@jupyter-widgets/base",
          "model_name": "LayoutModel",
          "model_module_version": "1.2.0",
          "state": {
            "_model_module": "@jupyter-widgets/base",
            "_model_module_version": "1.2.0",
            "_model_name": "LayoutModel",
            "_view_count": null,
            "_view_module": "@jupyter-widgets/base",
            "_view_module_version": "1.2.0",
            "_view_name": "LayoutView",
            "align_content": null,
            "align_items": null,
            "align_self": null,
            "border": null,
            "bottom": null,
            "display": null,
            "flex": null,
            "flex_flow": null,
            "grid_area": null,
            "grid_auto_columns": null,
            "grid_auto_flow": null,
            "grid_auto_rows": null,
            "grid_column": null,
            "grid_gap": null,
            "grid_row": null,
            "grid_template_areas": null,
            "grid_template_columns": null,
            "grid_template_rows": null,
            "height": null,
            "justify_content": null,
            "justify_items": null,
            "left": null,
            "margin": null,
            "max_height": null,
            "max_width": null,
            "min_height": null,
            "min_width": null,
            "object_fit": null,
            "object_position": null,
            "order": null,
            "overflow": null,
            "overflow_x": null,
            "overflow_y": null,
            "padding": null,
            "right": null,
            "top": null,
            "visibility": null,
            "width": null
          }
        },
        "90e45f83f8ae416cb21aa27a49c1e06f": {
          "model_module": "@jupyter-widgets/base",
          "model_name": "LayoutModel",
          "model_module_version": "1.2.0",
          "state": {
            "_model_module": "@jupyter-widgets/base",
            "_model_module_version": "1.2.0",
            "_model_name": "LayoutModel",
            "_view_count": null,
            "_view_module": "@jupyter-widgets/base",
            "_view_module_version": "1.2.0",
            "_view_name": "LayoutView",
            "align_content": null,
            "align_items": null,
            "align_self": null,
            "border": null,
            "bottom": null,
            "display": null,
            "flex": null,
            "flex_flow": null,
            "grid_area": null,
            "grid_auto_columns": null,
            "grid_auto_flow": null,
            "grid_auto_rows": null,
            "grid_column": null,
            "grid_gap": null,
            "grid_row": null,
            "grid_template_areas": null,
            "grid_template_columns": null,
            "grid_template_rows": null,
            "height": null,
            "justify_content": null,
            "justify_items": null,
            "left": null,
            "margin": null,
            "max_height": null,
            "max_width": null,
            "min_height": null,
            "min_width": null,
            "object_fit": null,
            "object_position": null,
            "order": null,
            "overflow": null,
            "overflow_x": null,
            "overflow_y": null,
            "padding": null,
            "right": null,
            "top": null,
            "visibility": null,
            "width": null
          }
        },
        "0c303edd1d744d3885be5a8dc5fd9f70": {
          "model_module": "@jupyter-widgets/controls",
          "model_name": "DescriptionStyleModel",
          "model_module_version": "1.5.0",
          "state": {
            "_model_module": "@jupyter-widgets/controls",
            "_model_module_version": "1.5.0",
            "_model_name": "DescriptionStyleModel",
            "_view_count": null,
            "_view_module": "@jupyter-widgets/base",
            "_view_module_version": "1.2.0",
            "_view_name": "StyleView",
            "description_width": ""
          }
        },
        "15e19e0aa6af42dea14e2624743d304b": {
          "model_module": "@jupyter-widgets/base",
          "model_name": "LayoutModel",
          "model_module_version": "1.2.0",
          "state": {
            "_model_module": "@jupyter-widgets/base",
            "_model_module_version": "1.2.0",
            "_model_name": "LayoutModel",
            "_view_count": null,
            "_view_module": "@jupyter-widgets/base",
            "_view_module_version": "1.2.0",
            "_view_name": "LayoutView",
            "align_content": null,
            "align_items": null,
            "align_self": null,
            "border": null,
            "bottom": null,
            "display": null,
            "flex": null,
            "flex_flow": null,
            "grid_area": null,
            "grid_auto_columns": null,
            "grid_auto_flow": null,
            "grid_auto_rows": null,
            "grid_column": null,
            "grid_gap": null,
            "grid_row": null,
            "grid_template_areas": null,
            "grid_template_columns": null,
            "grid_template_rows": null,
            "height": null,
            "justify_content": null,
            "justify_items": null,
            "left": null,
            "margin": null,
            "max_height": null,
            "max_width": null,
            "min_height": null,
            "min_width": null,
            "object_fit": null,
            "object_position": null,
            "order": null,
            "overflow": null,
            "overflow_x": null,
            "overflow_y": null,
            "padding": null,
            "right": null,
            "top": null,
            "visibility": null,
            "width": null
          }
        },
        "f12f62d42c9e4c8483a1d44875f8aeab": {
          "model_module": "@jupyter-widgets/controls",
          "model_name": "ProgressStyleModel",
          "model_module_version": "1.5.0",
          "state": {
            "_model_module": "@jupyter-widgets/controls",
            "_model_module_version": "1.5.0",
            "_model_name": "ProgressStyleModel",
            "_view_count": null,
            "_view_module": "@jupyter-widgets/base",
            "_view_module_version": "1.2.0",
            "_view_name": "StyleView",
            "bar_color": null,
            "description_width": ""
          }
        },
        "c76df8debd67456e98f14ae8fecfc4d9": {
          "model_module": "@jupyter-widgets/base",
          "model_name": "LayoutModel",
          "model_module_version": "1.2.0",
          "state": {
            "_model_module": "@jupyter-widgets/base",
            "_model_module_version": "1.2.0",
            "_model_name": "LayoutModel",
            "_view_count": null,
            "_view_module": "@jupyter-widgets/base",
            "_view_module_version": "1.2.0",
            "_view_name": "LayoutView",
            "align_content": null,
            "align_items": null,
            "align_self": null,
            "border": null,
            "bottom": null,
            "display": null,
            "flex": null,
            "flex_flow": null,
            "grid_area": null,
            "grid_auto_columns": null,
            "grid_auto_flow": null,
            "grid_auto_rows": null,
            "grid_column": null,
            "grid_gap": null,
            "grid_row": null,
            "grid_template_areas": null,
            "grid_template_columns": null,
            "grid_template_rows": null,
            "height": null,
            "justify_content": null,
            "justify_items": null,
            "left": null,
            "margin": null,
            "max_height": null,
            "max_width": null,
            "min_height": null,
            "min_width": null,
            "object_fit": null,
            "object_position": null,
            "order": null,
            "overflow": null,
            "overflow_x": null,
            "overflow_y": null,
            "padding": null,
            "right": null,
            "top": null,
            "visibility": null,
            "width": null
          }
        },
        "5d2c5ffbbc8d49bc80e140b88634bc41": {
          "model_module": "@jupyter-widgets/controls",
          "model_name": "DescriptionStyleModel",
          "model_module_version": "1.5.0",
          "state": {
            "_model_module": "@jupyter-widgets/controls",
            "_model_module_version": "1.5.0",
            "_model_name": "DescriptionStyleModel",
            "_view_count": null,
            "_view_module": "@jupyter-widgets/base",
            "_view_module_version": "1.2.0",
            "_view_name": "StyleView",
            "description_width": ""
          }
        }
      }
    }
  },
  "nbformat": 4,
  "nbformat_minor": 0
}